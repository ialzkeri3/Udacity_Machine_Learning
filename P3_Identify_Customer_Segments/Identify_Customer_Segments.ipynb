{
 "cells": [
  {
   "cell_type": "markdown",
   "metadata": {},
   "source": [
    "# Project: Identify Customer Segments\n",
    "\n",
    "In this project, you will apply unsupervised learning techniques to identify segments of the population that form the core customer base for a mail-order sales company in Germany. These segments can then be used to direct marketing campaigns towards audiences that will have the highest expected rate of returns. The data that you will use has been provided by our partners at Bertelsmann Arvato Analytics, and represents a real-life data science task.\n",
    "\n",
    "This notebook will help you complete this task by providing a framework within which you will perform your analysis steps. In each step of the project, you will see some text describing the subtask that you will perform, followed by one or more code cells for you to complete your work. **Feel free to add additional code and markdown cells as you go along so that you can explore everything in precise chunks.** The code cells provided in the base template will outline only the major tasks, and will usually not be enough to cover all of the minor tasks that comprise it.\n",
    "\n",
    "It should be noted that while there will be precise guidelines on how you should handle certain tasks in the project, there will also be places where an exact specification is not provided. **There will be times in the project where you will need to make and justify your own decisions on how to treat the data.** These are places where there may not be only one way to handle the data. In real-life tasks, there may be many valid ways to approach an analysis task. One of the most important things you can do is clearly document your approach so that other scientists can understand the decisions you've made.\n",
    "\n",
    "At the end of most sections, there will be a Markdown cell labeled **Discussion**. In these cells, you will report your findings for the completed section, as well as document the decisions that you made in your approach to each subtask. **Your project will be evaluated not just on the code used to complete the tasks outlined, but also your communication about your observations and conclusions at each stage.**"
   ]
  },
  {
   "cell_type": "code",
   "execution_count": 1,
   "metadata": {},
   "outputs": [
    {
     "data": {
      "text/plain": [
       "'\\nImport note: The classroom currently uses sklearn version 0.19.\\nIf you need to use an imputer, it is available in sklearn.preprocessing.Imputer,\\ninstead of sklearn.impute as in newer versions of sklearn.\\n'"
      ]
     },
     "execution_count": 1,
     "metadata": {},
     "output_type": "execute_result"
    }
   ],
   "source": [
    "# import libraries here; add more as necessary\n",
    "import numpy as np\n",
    "import pandas as pd\n",
    "import matplotlib.pyplot as plt\n",
    "import seaborn as sns\n",
    "from sklearn.preprocessing import Imputer, StandardScaler\n",
    "from sklearn.decomposition import PCA\n",
    "from sklearn.cluster import KMeans\n",
    "import seaborn as sns\n",
    "\n",
    "# magic word for producing visualizations in notebook\n",
    "%matplotlib inline\n",
    "\n",
    "'''\n",
    "Import note: The classroom currently uses sklearn version 0.19.\n",
    "If you need to use an imputer, it is available in sklearn.preprocessing.Imputer,\n",
    "instead of sklearn.impute as in newer versions of sklearn.\n",
    "'''"
   ]
  },
  {
   "cell_type": "markdown",
   "metadata": {},
   "source": [
    "### Step 0: Load the Data\n",
    "\n",
    "There are four files associated with this project (not including this one):\n",
    "\n",
    "- `Udacity_AZDIAS_Subset.csv`: Demographics data for the general population of Germany; 891211 persons (rows) x 85 features (columns).\n",
    "- `Udacity_CUSTOMERS_Subset.csv`: Demographics data for customers of a mail-order company; 191652 persons (rows) x 85 features (columns).\n",
    "- `Data_Dictionary.md`: Detailed information file about the features in the provided datasets.\n",
    "- `AZDIAS_Feature_Summary.csv`: Summary of feature attributes for demographics data; 85 features (rows) x 4 columns\n",
    "\n",
    "Each row of the demographics files represents a single person, but also includes information outside of individuals, including information about their household, building, and neighborhood. You will use this information to cluster the general population into groups with similar demographic properties. Then, you will see how the people in the customers dataset fit into those created clusters. The hope here is that certain clusters are over-represented in the customers data, as compared to the general population; those over-represented clusters will be assumed to be part of the core userbase. This information can then be used for further applications, such as targeting for a marketing campaign.\n",
    "\n",
    "To start off with, load in the demographics data for the general population into a pandas DataFrame, and do the same for the feature attributes summary. Note for all of the `.csv` data files in this project: they're semicolon (`;`) delimited, so you'll need an additional argument in your [`read_csv()`](https://pandas.pydata.org/pandas-docs/stable/generated/pandas.read_csv.html) call to read in the data properly. Also, considering the size of the main dataset, it may take some time for it to load completely.\n",
    "\n",
    "Once the dataset is loaded, it's recommended that you take a little bit of time just browsing the general structure of the dataset and feature summary file. You'll be getting deep into the innards of the cleaning in the first major step of the project, so gaining some general familiarity can help you get your bearings."
   ]
  },
  {
   "cell_type": "code",
   "execution_count": 2,
   "metadata": {},
   "outputs": [],
   "source": [
    "# Load in the general demographics data.\n",
    "azdias = pd.read_csv('Udacity_AZDIAS_Subset.csv',sep=';')\n",
    "\n",
    "# Load in the feature summary file.\n",
    "feat_info = pd.read_csv('AZDIAS_Feature_Summary.csv',sep=';')"
   ]
  },
  {
   "cell_type": "code",
   "execution_count": 3,
   "metadata": {},
   "outputs": [
    {
     "data": {
      "text/html": [
       "<div>\n",
       "<style scoped>\n",
       "    .dataframe tbody tr th:only-of-type {\n",
       "        vertical-align: middle;\n",
       "    }\n",
       "\n",
       "    .dataframe tbody tr th {\n",
       "        vertical-align: top;\n",
       "    }\n",
       "\n",
       "    .dataframe thead th {\n",
       "        text-align: right;\n",
       "    }\n",
       "</style>\n",
       "<table border=\"1\" class=\"dataframe\">\n",
       "  <thead>\n",
       "    <tr style=\"text-align: right;\">\n",
       "      <th></th>\n",
       "      <th>AGER_TYP</th>\n",
       "      <th>ALTERSKATEGORIE_GROB</th>\n",
       "      <th>ANREDE_KZ</th>\n",
       "      <th>CJT_GESAMTTYP</th>\n",
       "      <th>FINANZ_MINIMALIST</th>\n",
       "      <th>FINANZ_SPARER</th>\n",
       "      <th>FINANZ_VORSORGER</th>\n",
       "      <th>FINANZ_ANLEGER</th>\n",
       "      <th>FINANZ_UNAUFFAELLIGER</th>\n",
       "      <th>FINANZ_HAUSBAUER</th>\n",
       "      <th>...</th>\n",
       "      <th>PLZ8_ANTG1</th>\n",
       "      <th>PLZ8_ANTG2</th>\n",
       "      <th>PLZ8_ANTG3</th>\n",
       "      <th>PLZ8_ANTG4</th>\n",
       "      <th>PLZ8_BAUMAX</th>\n",
       "      <th>PLZ8_HHZ</th>\n",
       "      <th>PLZ8_GBZ</th>\n",
       "      <th>ARBEIT</th>\n",
       "      <th>ORTSGR_KLS9</th>\n",
       "      <th>RELAT_AB</th>\n",
       "    </tr>\n",
       "  </thead>\n",
       "  <tbody>\n",
       "    <tr>\n",
       "      <th>0</th>\n",
       "      <td>-1</td>\n",
       "      <td>2</td>\n",
       "      <td>1</td>\n",
       "      <td>2.0</td>\n",
       "      <td>3</td>\n",
       "      <td>4</td>\n",
       "      <td>3</td>\n",
       "      <td>5</td>\n",
       "      <td>5</td>\n",
       "      <td>3</td>\n",
       "      <td>...</td>\n",
       "      <td>NaN</td>\n",
       "      <td>NaN</td>\n",
       "      <td>NaN</td>\n",
       "      <td>NaN</td>\n",
       "      <td>NaN</td>\n",
       "      <td>NaN</td>\n",
       "      <td>NaN</td>\n",
       "      <td>NaN</td>\n",
       "      <td>NaN</td>\n",
       "      <td>NaN</td>\n",
       "    </tr>\n",
       "    <tr>\n",
       "      <th>1</th>\n",
       "      <td>-1</td>\n",
       "      <td>1</td>\n",
       "      <td>2</td>\n",
       "      <td>5.0</td>\n",
       "      <td>1</td>\n",
       "      <td>5</td>\n",
       "      <td>2</td>\n",
       "      <td>5</td>\n",
       "      <td>4</td>\n",
       "      <td>5</td>\n",
       "      <td>...</td>\n",
       "      <td>2.0</td>\n",
       "      <td>3.0</td>\n",
       "      <td>2.0</td>\n",
       "      <td>1.0</td>\n",
       "      <td>1.0</td>\n",
       "      <td>5.0</td>\n",
       "      <td>4.0</td>\n",
       "      <td>3.0</td>\n",
       "      <td>5.0</td>\n",
       "      <td>4.0</td>\n",
       "    </tr>\n",
       "    <tr>\n",
       "      <th>2</th>\n",
       "      <td>-1</td>\n",
       "      <td>3</td>\n",
       "      <td>2</td>\n",
       "      <td>3.0</td>\n",
       "      <td>1</td>\n",
       "      <td>4</td>\n",
       "      <td>1</td>\n",
       "      <td>2</td>\n",
       "      <td>3</td>\n",
       "      <td>5</td>\n",
       "      <td>...</td>\n",
       "      <td>3.0</td>\n",
       "      <td>3.0</td>\n",
       "      <td>1.0</td>\n",
       "      <td>0.0</td>\n",
       "      <td>1.0</td>\n",
       "      <td>4.0</td>\n",
       "      <td>4.0</td>\n",
       "      <td>3.0</td>\n",
       "      <td>5.0</td>\n",
       "      <td>2.0</td>\n",
       "    </tr>\n",
       "    <tr>\n",
       "      <th>3</th>\n",
       "      <td>2</td>\n",
       "      <td>4</td>\n",
       "      <td>2</td>\n",
       "      <td>2.0</td>\n",
       "      <td>4</td>\n",
       "      <td>2</td>\n",
       "      <td>5</td>\n",
       "      <td>2</td>\n",
       "      <td>1</td>\n",
       "      <td>2</td>\n",
       "      <td>...</td>\n",
       "      <td>2.0</td>\n",
       "      <td>2.0</td>\n",
       "      <td>2.0</td>\n",
       "      <td>0.0</td>\n",
       "      <td>1.0</td>\n",
       "      <td>3.0</td>\n",
       "      <td>4.0</td>\n",
       "      <td>2.0</td>\n",
       "      <td>3.0</td>\n",
       "      <td>3.0</td>\n",
       "    </tr>\n",
       "    <tr>\n",
       "      <th>4</th>\n",
       "      <td>-1</td>\n",
       "      <td>3</td>\n",
       "      <td>1</td>\n",
       "      <td>5.0</td>\n",
       "      <td>4</td>\n",
       "      <td>3</td>\n",
       "      <td>4</td>\n",
       "      <td>1</td>\n",
       "      <td>3</td>\n",
       "      <td>2</td>\n",
       "      <td>...</td>\n",
       "      <td>2.0</td>\n",
       "      <td>4.0</td>\n",
       "      <td>2.0</td>\n",
       "      <td>1.0</td>\n",
       "      <td>2.0</td>\n",
       "      <td>3.0</td>\n",
       "      <td>3.0</td>\n",
       "      <td>4.0</td>\n",
       "      <td>6.0</td>\n",
       "      <td>5.0</td>\n",
       "    </tr>\n",
       "  </tbody>\n",
       "</table>\n",
       "<p>5 rows × 85 columns</p>\n",
       "</div>"
      ],
      "text/plain": [
       "   AGER_TYP  ALTERSKATEGORIE_GROB  ANREDE_KZ  CJT_GESAMTTYP  \\\n",
       "0        -1                     2          1            2.0   \n",
       "1        -1                     1          2            5.0   \n",
       "2        -1                     3          2            3.0   \n",
       "3         2                     4          2            2.0   \n",
       "4        -1                     3          1            5.0   \n",
       "\n",
       "   FINANZ_MINIMALIST  FINANZ_SPARER  FINANZ_VORSORGER  FINANZ_ANLEGER  \\\n",
       "0                  3              4                 3               5   \n",
       "1                  1              5                 2               5   \n",
       "2                  1              4                 1               2   \n",
       "3                  4              2                 5               2   \n",
       "4                  4              3                 4               1   \n",
       "\n",
       "   FINANZ_UNAUFFAELLIGER  FINANZ_HAUSBAUER    ...     PLZ8_ANTG1  PLZ8_ANTG2  \\\n",
       "0                      5                 3    ...            NaN         NaN   \n",
       "1                      4                 5    ...            2.0         3.0   \n",
       "2                      3                 5    ...            3.0         3.0   \n",
       "3                      1                 2    ...            2.0         2.0   \n",
       "4                      3                 2    ...            2.0         4.0   \n",
       "\n",
       "   PLZ8_ANTG3  PLZ8_ANTG4  PLZ8_BAUMAX  PLZ8_HHZ  PLZ8_GBZ  ARBEIT  \\\n",
       "0         NaN         NaN          NaN       NaN       NaN     NaN   \n",
       "1         2.0         1.0          1.0       5.0       4.0     3.0   \n",
       "2         1.0         0.0          1.0       4.0       4.0     3.0   \n",
       "3         2.0         0.0          1.0       3.0       4.0     2.0   \n",
       "4         2.0         1.0          2.0       3.0       3.0     4.0   \n",
       "\n",
       "   ORTSGR_KLS9  RELAT_AB  \n",
       "0          NaN       NaN  \n",
       "1          5.0       4.0  \n",
       "2          5.0       2.0  \n",
       "3          3.0       3.0  \n",
       "4          6.0       5.0  \n",
       "\n",
       "[5 rows x 85 columns]"
      ]
     },
     "execution_count": 3,
     "metadata": {},
     "output_type": "execute_result"
    }
   ],
   "source": [
    "# Check the structure of the data after it's loaded (e.g. print the number of\n",
    "# rows and columns, print the first few rows).\n",
    "\n",
    "azdias.head()"
   ]
  },
  {
   "cell_type": "code",
   "execution_count": 4,
   "metadata": {},
   "outputs": [
    {
     "data": {
      "text/plain": [
       "(891221, 85)"
      ]
     },
     "execution_count": 4,
     "metadata": {},
     "output_type": "execute_result"
    }
   ],
   "source": [
    "azdias.shape"
   ]
  },
  {
   "cell_type": "code",
   "execution_count": 5,
   "metadata": {},
   "outputs": [
    {
     "data": {
      "text/html": [
       "<div>\n",
       "<style scoped>\n",
       "    .dataframe tbody tr th:only-of-type {\n",
       "        vertical-align: middle;\n",
       "    }\n",
       "\n",
       "    .dataframe tbody tr th {\n",
       "        vertical-align: top;\n",
       "    }\n",
       "\n",
       "    .dataframe thead th {\n",
       "        text-align: right;\n",
       "    }\n",
       "</style>\n",
       "<table border=\"1\" class=\"dataframe\">\n",
       "  <thead>\n",
       "    <tr style=\"text-align: right;\">\n",
       "      <th></th>\n",
       "      <th>attribute</th>\n",
       "      <th>information_level</th>\n",
       "      <th>type</th>\n",
       "      <th>missing_or_unknown</th>\n",
       "    </tr>\n",
       "  </thead>\n",
       "  <tbody>\n",
       "    <tr>\n",
       "      <th>0</th>\n",
       "      <td>AGER_TYP</td>\n",
       "      <td>person</td>\n",
       "      <td>categorical</td>\n",
       "      <td>[-1,0]</td>\n",
       "    </tr>\n",
       "    <tr>\n",
       "      <th>1</th>\n",
       "      <td>ALTERSKATEGORIE_GROB</td>\n",
       "      <td>person</td>\n",
       "      <td>ordinal</td>\n",
       "      <td>[-1,0,9]</td>\n",
       "    </tr>\n",
       "    <tr>\n",
       "      <th>2</th>\n",
       "      <td>ANREDE_KZ</td>\n",
       "      <td>person</td>\n",
       "      <td>categorical</td>\n",
       "      <td>[-1,0]</td>\n",
       "    </tr>\n",
       "    <tr>\n",
       "      <th>3</th>\n",
       "      <td>CJT_GESAMTTYP</td>\n",
       "      <td>person</td>\n",
       "      <td>categorical</td>\n",
       "      <td>[0]</td>\n",
       "    </tr>\n",
       "    <tr>\n",
       "      <th>4</th>\n",
       "      <td>FINANZ_MINIMALIST</td>\n",
       "      <td>person</td>\n",
       "      <td>ordinal</td>\n",
       "      <td>[-1]</td>\n",
       "    </tr>\n",
       "  </tbody>\n",
       "</table>\n",
       "</div>"
      ],
      "text/plain": [
       "              attribute information_level         type missing_or_unknown\n",
       "0              AGER_TYP            person  categorical             [-1,0]\n",
       "1  ALTERSKATEGORIE_GROB            person      ordinal           [-1,0,9]\n",
       "2             ANREDE_KZ            person  categorical             [-1,0]\n",
       "3         CJT_GESAMTTYP            person  categorical                [0]\n",
       "4     FINANZ_MINIMALIST            person      ordinal               [-1]"
      ]
     },
     "execution_count": 5,
     "metadata": {},
     "output_type": "execute_result"
    }
   ],
   "source": [
    "feat_info.head()"
   ]
  },
  {
   "cell_type": "code",
   "execution_count": 6,
   "metadata": {},
   "outputs": [
    {
     "data": {
      "text/plain": [
       "(85, 4)"
      ]
     },
     "execution_count": 6,
     "metadata": {},
     "output_type": "execute_result"
    }
   ],
   "source": [
    "feat_info.shape"
   ]
  },
  {
   "cell_type": "markdown",
   "metadata": {},
   "source": [
    "> **Tip**: Add additional cells to keep everything in reasonably-sized chunks! Keyboard shortcut `esc --> a` (press escape to enter command mode, then press the 'A' key) adds a new cell before the active cell, and `esc --> b` adds a new cell after the active cell. If you need to convert an active cell to a markdown cell, use `esc --> m` and to convert to a code cell, use `esc --> y`. \n",
    "\n",
    "## Step 1: Preprocessing\n",
    "\n",
    "### Step 1.1: Assess Missing Data\n",
    "\n",
    "The feature summary file contains a summary of properties for each demographics data column. You will use this file to help you make cleaning decisions during this stage of the project. First of all, you should assess the demographics data in terms of missing data. Pay attention to the following points as you perform your analysis, and take notes on what you observe. Make sure that you fill in the **Discussion** cell with your findings and decisions at the end of each step that has one!\n",
    "\n",
    "#### Step 1.1.1: Convert Missing Value Codes to NaNs\n",
    "The fourth column of the feature attributes summary (loaded in above as `feat_info`) documents the codes from the data dictionary that indicate missing or unknown data. While the file encodes this as a list (e.g. `[-1,0]`), this will get read in as a string object. You'll need to do a little bit of parsing to make use of it to identify and clean the data. Convert data that matches a 'missing' or 'unknown' value code into a numpy NaN value. You might want to see how much data takes on a 'missing' or 'unknown' code, and how much data is naturally missing, as a point of interest.\n",
    "\n",
    "**As one more reminder, you are encouraged to add additional cells to break up your analysis into manageable chunks.**"
   ]
  },
  {
   "cell_type": "code",
   "execution_count": 7,
   "metadata": {},
   "outputs": [
    {
     "name": "stdout",
     "output_type": "stream",
     "text": [
      "Natural Missing Data before mapping : 4896838\n"
     ]
    }
   ],
   "source": [
    "print(\"Natural Missing Data before mapping : {}\".format(azdias.isnull().sum().sum()))"
   ]
  },
  {
   "cell_type": "code",
   "execution_count": 8,
   "metadata": {},
   "outputs": [],
   "source": [
    "# Identify missing or unknown data values and convert them to NaNs.\n",
    "\n",
    "for feature in range(azdias.shape[1]):\n",
    "    lost_value = feat_info.iloc[feature]['missing_or_unknown']\n",
    "    lost_value = lost_value.strip('[')\n",
    "    lost_value = lost_value.strip(']')\n",
    "    lost_value = lost_value.split(sep=',')\n",
    "    lost_value = [int(value) if (value!='X' and value!='XX' and value!='') else value for value in lost_value]\n",
    "    if lost_value != ['']:\n",
    "        azdias = azdias.replace({feat_info.iloc[feature]['attribute']: lost_value}, np.nan)"
   ]
  },
  {
   "cell_type": "code",
   "execution_count": 9,
   "metadata": {},
   "outputs": [
    {
     "name": "stdout",
     "output_type": "stream",
     "text": [
      "Missing Data after mapping : 8373929\n"
     ]
    }
   ],
   "source": [
    "print(\"Missing Data after mapping : {}\".format(azdias.isnull().sum().sum()))"
   ]
  },
  {
   "cell_type": "markdown",
   "metadata": {},
   "source": [
    "#### Step 1.1.2: Assess Missing Data in Each Column\n",
    "\n",
    "How much missing data is present in each column? There are a few columns that are outliers in terms of the proportion of values that are missing. You will want to use matplotlib's [`hist()`](https://matplotlib.org/api/_as_gen/matplotlib.pyplot.hist.html) function to visualize the distribution of missing value counts to find these columns. Identify and document these columns. While some of these columns might have justifications for keeping or re-encoding the data, for this project you should just remove them from the dataframe. (Feel free to make remarks about these outlier columns in the discussion, however!)\n",
    "\n",
    "For the remaining features, are there any patterns in which columns have, or share, missing data?"
   ]
  },
  {
   "cell_type": "code",
   "execution_count": 10,
   "metadata": {},
   "outputs": [
    {
     "data": {
      "text/plain": [
       "TITEL_KZ                 99.757636\n",
       "AGER_TYP                 76.955435\n",
       "KK_KUNDENTYP             65.596749\n",
       "KBA05_BAUMAX             53.468668\n",
       "GEBURTSJAHR              44.020282\n",
       "ALTER_HH                 34.813699\n",
       "REGIOTYP                 17.735668\n",
       "KKK                      17.735668\n",
       "W_KEIT_KIND_HH           16.605084\n",
       "KBA05_ANTG4              14.959701\n",
       "KBA05_GBZ                14.959701\n",
       "MOBI_REGIO               14.959701\n",
       "KBA05_ANTG1              14.959701\n",
       "KBA05_ANTG2              14.959701\n",
       "KBA05_ANTG3              14.959701\n",
       "PLZ8_GBZ                 13.073637\n",
       "PLZ8_HHZ                 13.073637\n",
       "PLZ8_BAUMAX              13.073637\n",
       "PLZ8_ANTG4               13.073637\n",
       "PLZ8_ANTG1               13.073637\n",
       "PLZ8_ANTG3               13.073637\n",
       "PLZ8_ANTG2               13.073637\n",
       "SHOPPER_TYP              12.476816\n",
       "VERS_TYP                 12.476816\n",
       "HEALTH_TYP               12.476816\n",
       "NATIONALITAET_KZ         12.153551\n",
       "PRAEGENDE_JUGENDJAHRE    12.136608\n",
       "KBA13_ANZAHL_PKW         11.871354\n",
       "ANZ_HAUSHALTE_AKTIV      11.176913\n",
       "CAMEO_INTL_2015          11.147852\n",
       "                           ...    \n",
       "RETOURTYP_BK_S            0.544646\n",
       "ONLINE_AFFINITAET         0.544646\n",
       "LP_STATUS_FEIN            0.544646\n",
       "LP_STATUS_GROB            0.544646\n",
       "GFK_URLAUBERTYP           0.544646\n",
       "ALTERSKATEGORIE_GROB      0.323264\n",
       "FINANZTYP                 0.000000\n",
       "GREEN_AVANTGARDE          0.000000\n",
       "FINANZ_HAUSBAUER          0.000000\n",
       "FINANZ_UNAUFFAELLIGER     0.000000\n",
       "FINANZ_ANLEGER            0.000000\n",
       "FINANZ_SPARER             0.000000\n",
       "FINANZ_MINIMALIST         0.000000\n",
       "ANREDE_KZ                 0.000000\n",
       "FINANZ_VORSORGER          0.000000\n",
       "SEMIO_FAM                 0.000000\n",
       "SEMIO_SOZ                 0.000000\n",
       "SEMIO_REL                 0.000000\n",
       "SEMIO_MAT                 0.000000\n",
       "SEMIO_VERT                0.000000\n",
       "SEMIO_LUST                0.000000\n",
       "SEMIO_ERL                 0.000000\n",
       "SEMIO_KULT                0.000000\n",
       "SEMIO_RAT                 0.000000\n",
       "SEMIO_KRIT                0.000000\n",
       "SEMIO_DOM                 0.000000\n",
       "SEMIO_KAEM                0.000000\n",
       "SEMIO_PFLICHT             0.000000\n",
       "SEMIO_TRADV               0.000000\n",
       "ZABEOTYP                  0.000000\n",
       "Length: 85, dtype: float64"
      ]
     },
     "execution_count": 10,
     "metadata": {},
     "output_type": "execute_result"
    }
   ],
   "source": [
    "# Perform an assessment of how much missing data there is in each column of the\n",
    "# dataset.\n",
    "percent_missing_per_feature =(azdias.isnull().sum()/azdias.shape[0]).sort_values(ascending=False)*100\n",
    "percent_missing_per_feature"
   ]
  },
  {
   "cell_type": "code",
   "execution_count": 11,
   "metadata": {},
   "outputs": [
    {
     "data": {
      "text/plain": [
       "(array([ 32.,   0.,   7.,  31.,   7.,   2.,   0.,   0.,   0.,   0.,   1.,\n",
       "          0.,   0.,   1.,   0.,   0.,   1.,   0.,   0.,   1.,   0.,   0.,\n",
       "          0.,   1.,   0.,   0.,   0.,   0.,   0.,   1.]),\n",
       " array([  0.        ,   3.32525453,   6.65050906,   9.97576359,\n",
       "         13.30101812,  16.62627265,  19.95152717,  23.2767817 ,\n",
       "         26.60203623,  29.92729076,  33.25254529,  36.57779982,\n",
       "         39.90305435,  43.22830888,  46.55356341,  49.87881794,\n",
       "         53.20407247,  56.52932699,  59.85458152,  63.17983605,\n",
       "         66.50509058,  69.83034511,  73.15559964,  76.48085417,\n",
       "         79.8061087 ,  83.13136323,  86.45661776,  89.78187229,\n",
       "         93.10712681,  96.43238134,  99.75763587]),\n",
       " <a list of 30 Patch objects>)"
      ]
     },
     "execution_count": 11,
     "metadata": {},
     "output_type": "execute_result"
    },
    {
     "data": {
      "image/png": "[encoded data removed]",
      "text/plain": [
       "<matplotlib.figure.Figure at 0x7f13bb5999b0>"
      ]
     },
     "metadata": {
      "needs_background": "light"
     },
     "output_type": "display_data"
    }
   ],
   "source": [
    "# Investigate patterns in the amount of missing data in each column.\n",
    "plt.hist(percent_missing_per_feature,bins=30)"
   ]
  },
  {
   "cell_type": "code",
   "execution_count": 12,
   "metadata": {},
   "outputs": [],
   "source": [
    "# Remove the outlier columns from the dataset. (You'll perform other data\n",
    "# engineering tasks such as re-encoding and imputation later.)\n",
    "\n",
    "outliers = percent_missing_per_feature[percent_missing_per_feature>20]\n",
    "outliers = outliers.index.tolist()"
   ]
  },
  {
   "cell_type": "code",
   "execution_count": 13,
   "metadata": {},
   "outputs": [
    {
     "data": {
      "text/plain": [
       "['TITEL_KZ',\n",
       " 'AGER_TYP',\n",
       " 'KK_KUNDENTYP',\n",
       " 'KBA05_BAUMAX',\n",
       " 'GEBURTSJAHR',\n",
       " 'ALTER_HH']"
      ]
     },
     "execution_count": 13,
     "metadata": {},
     "output_type": "execute_result"
    }
   ],
   "source": [
    "outliers"
   ]
  },
  {
   "cell_type": "code",
   "execution_count": 14,
   "metadata": {},
   "outputs": [],
   "source": [
    "azdias = azdias.drop(outliers, axis=1)"
   ]
  },
  {
   "cell_type": "code",
   "execution_count": 15,
   "metadata": {},
   "outputs": [
    {
     "data": {
      "text/plain": [
       "(891221, 79)"
      ]
     },
     "execution_count": 15,
     "metadata": {},
     "output_type": "execute_result"
    }
   ],
   "source": [
    "azdias.shape"
   ]
  },
  {
   "cell_type": "markdown",
   "metadata": {},
   "source": [
    "#### Discussion 1.1.2: Assess Missing Data in Each Column\n",
    "\n",
    "(Double click this cell and replace this text with your own text, reporting your observations regarding the amount of missing data in each column. Are there any patterns in missing values? Which columns were removed from the dataset?)"
   ]
  },
  {
   "cell_type": "markdown",
   "metadata": {},
   "source": [
    "#### Step 1.1.3: Assess Missing Data in Each Row\n",
    "\n",
    "Now, you'll perform a similar assessment for the rows of the dataset. How much data is missing in each row? As with the columns, you should see some groups of points that have a very different numbers of missing values. Divide the data into two subsets: one for data points that are above some threshold for missing values, and a second subset for points below that threshold.\n",
    "\n",
    "In order to know what to do with the outlier rows, we should see if the distribution of data values on columns that are not missing data (or are missing very little data) are similar or different between the two groups. Select at least five of these columns and compare the distribution of values.\n",
    "- You can use seaborn's [`countplot()`](https://seaborn.pydata.org/generated/seaborn.countplot.html) function to create a bar chart of code frequencies and matplotlib's [`subplot()`](https://matplotlib.org/api/_as_gen/matplotlib.pyplot.subplot.html) function to put bar charts for the two subplots side by side.\n",
    "- To reduce repeated code, you might want to write a function that can perform this comparison, taking as one of its arguments a column to be compared.\n",
    "\n",
    "Depending on what you observe in your comparison, this will have implications on how you approach your conclusions later in the analysis. If the distributions of non-missing features look similar between the data with many missing values and the data with few or no missing values, then we could argue that simply dropping those points from the analysis won't present a major issue. On the other hand, if the data with many missing values looks very different from the data with few or no missing values, then we should make a note on those data as special. We'll revisit these data later on. **Either way, you should continue your analysis for now using just the subset of the data with few or no missing values.**"
   ]
  },
  {
   "cell_type": "code",
   "execution_count": 16,
   "metadata": {},
   "outputs": [
    {
     "data": {
      "image/png": "[encoded data removed]",
      "text/plain": [
       "<matplotlib.figure.Figure at 0x7f13aeee4cc0>"
      ]
     },
     "metadata": {
      "needs_background": "light"
     },
     "output_type": "display_data"
    }
   ],
   "source": [
    "# How much data is missing in each row of the dataset?\n",
    "\n",
    "missing_values = azdias.isnull().sum(axis=1)\n",
    "plt.hist(missing_values, bins=20)\n",
    "plt.xlabel('number of columns')\n",
    "plt.ylabel('count of missing values')\n",
    "plt.show()"
   ]
  },
  {
   "cell_type": "code",
   "execution_count": 17,
   "metadata": {},
   "outputs": [],
   "source": [
    "# Write code to divide the data into two subsets based on the number of missing\n",
    "# values in each row.\n",
    "\n",
    "missing_high = azdias[azdias.isnull().sum(axis=1) >= 5].reset_index(drop=True)\n",
    "missing_low = azdias[azdias.isnull().sum(axis=1) < 5].reset_index(drop=True)"
   ]
  },
  {
   "cell_type": "code",
   "execution_count": 18,
   "metadata": {},
   "outputs": [
    {
     "data": {
      "text/plain": [
       "['FINANZTYP',\n",
       " 'GREEN_AVANTGARDE',\n",
       " 'FINANZ_HAUSBAUER',\n",
       " 'FINANZ_UNAUFFAELLIGER',\n",
       " 'FINANZ_ANLEGER',\n",
       " 'FINANZ_SPARER',\n",
       " 'FINANZ_MINIMALIST',\n",
       " 'ANREDE_KZ',\n",
       " 'FINANZ_VORSORGER',\n",
       " 'SEMIO_FAM',\n",
       " 'SEMIO_SOZ',\n",
       " 'SEMIO_REL',\n",
       " 'SEMIO_MAT',\n",
       " 'SEMIO_VERT',\n",
       " 'SEMIO_LUST',\n",
       " 'SEMIO_ERL',\n",
       " 'SEMIO_KULT',\n",
       " 'SEMIO_RAT',\n",
       " 'SEMIO_KRIT',\n",
       " 'SEMIO_DOM',\n",
       " 'SEMIO_KAEM',\n",
       " 'SEMIO_PFLICHT',\n",
       " 'SEMIO_TRADV',\n",
       " 'ZABEOTYP']"
      ]
     },
     "execution_count": 18,
     "metadata": {},
     "output_type": "execute_result"
    }
   ],
   "source": [
    "zero_missing_columns=[]\n",
    "for i in range(percent_missing_per_feature.shape[0]):\n",
    "    if(percent_missing_per_feature[i]==0):\n",
    "        zero_missing_columns.append(percent_missing_per_feature.index[i])\n",
    "zero_missing_columns"
   ]
  },
  {
   "cell_type": "code",
   "execution_count": 19,
   "metadata": {},
   "outputs": [
    {
     "data": {
      "image/png": "[encoded data removed]",
      "text/plain": [
       "<matplotlib.figure.Figure at 0x7f13ac5ea5f8>"
      ]
     },
     "metadata": {
      "needs_background": "light"
     },
     "output_type": "display_data"
    }
   ],
   "source": [
    "# Compare the distribution of values for at least five columns where there are\n",
    "# no or few missing values, between the two subsets.\n",
    "\n",
    "figure, axs = plt.subplots(nrows=5, ncols=2, figsize = (20,25))\n",
    "figure.subplots_adjust(hspace = 1, wspace=.5)\n",
    "for i in range(5):\n",
    "    sns.countplot(missing_low[zero_missing_columns[i]], ax=axs[i][0])\n",
    "    axs[i][0].set_title('Few or no missing values')\n",
    "    sns.countplot(missing_high[zero_missing_columns[i]], ax=axs[i][1])\n",
    "    axs[i][1].set_title('Many missing values')"
   ]
  },
  {
   "cell_type": "markdown",
   "metadata": {},
   "source": [
    "#### Discussion 1.1.3: Assess Missing Data in Each Row\n",
    "\n",
    "(Membership in environmental sustainability as part of youth) seemed to follow similar distribution for the two dataset. However, financial mentality follows considerably different distributions. Also the results indicate that there is a pattern for the missing data."
   ]
  },
  {
   "cell_type": "markdown",
   "metadata": {},
   "source": [
    "### Step 1.2: Select and Re-Encode Features\n",
    "\n",
    "Checking for missing data isn't the only way in which you can prepare a dataset for analysis. Since the unsupervised learning techniques to be used will only work on data that is encoded numerically, you need to make a few encoding changes or additional assumptions to be able to make progress. In addition, while almost all of the values in the dataset are encoded using numbers, not all of them represent numeric values. Check the third column of the feature summary (`feat_info`) for a summary of types of measurement.\n",
    "- For numeric and interval data, these features can be kept without changes.\n",
    "- Most of the variables in the dataset are ordinal in nature. While ordinal values may technically be non-linear in spacing, make the simplifying assumption that the ordinal variables can be treated as being interval in nature (that is, kept without any changes).\n",
    "- Special handling may be necessary for the remaining two variable types: categorical, and 'mixed'.\n",
    "\n",
    "In the first two parts of this sub-step, you will perform an investigation of the categorical and mixed-type features and make a decision on each of them, whether you will keep, drop, or re-encode each. Then, in the last part, you will create a new data frame with only the selected and engineered columns.\n",
    "\n",
    "Data wrangling is often the trickiest part of the data analysis process, and there's a lot of it to be done here. But stick with it: once you're done with this step, you'll be ready to get to the machine learning parts of the project!"
   ]
  },
  {
   "cell_type": "code",
   "execution_count": 20,
   "metadata": {},
   "outputs": [
    {
     "name": "stderr",
     "output_type": "stream",
     "text": [
      "/opt/conda/lib/python3.6/site-packages/pandas/core/frame.py:3697: SettingWithCopyWarning: \n",
      "A value is trying to be set on a copy of a slice from a DataFrame\n",
      "\n",
      "See the caveats in the documentation: http://pandas.pydata.org/pandas-docs/stable/indexing.html#indexing-view-versus-copy\n",
      "  errors=errors)\n"
     ]
    },
    {
     "name": "stdout",
     "output_type": "stream",
     "text": [
      "number of categorical features: 18\n",
      "number of mixed features: 6\n"
     ]
    }
   ],
   "source": [
    "# How many features are there of each data type?\n",
    "\n",
    "cat_feat = feat_info[ feat_info['type'] == 'categorical' ]\n",
    "mixed_feat = feat_info[ feat_info['type'] == 'mixed']\n",
    "\n",
    "\n",
    "# Removing columns that are not in azdias from categorical features\n",
    "i = 0\n",
    "for feat in cat_feat.attribute.values:\n",
    "    if feat not in azdias.columns:\n",
    "        cat_feat.drop(cat_feat.index[i] , inplace = True)\n",
    "    else:\n",
    "        i = i + 1\n",
    "\n",
    "# Removing columns that are not in azdias from mixed features\n",
    "i = 0\n",
    "for feat in mixed_feat.attribute.values:\n",
    "    if feat not in azdias.columns:\n",
    "        mixed_feat.drop(mixed_feat.index[i] , inplace = True)\n",
    "    else:\n",
    "        i = i + 1\n",
    "\n",
    "\n",
    "print('number of categorical features:',len( cat_feat ))\n",
    "print('number of mixed features:',len( mixed_feat ))"
   ]
  },
  {
   "cell_type": "markdown",
   "metadata": {},
   "source": [
    "#### Step 1.2.1: Re-Encode Categorical Features\n",
    "\n",
    "For categorical data, you would ordinarily need to encode the levels as dummy variables. Depending on the number of categories, perform one of the following:\n",
    "- For binary (two-level) categoricals that take numeric values, you can keep them without needing to do anything.\n",
    "- There is one binary variable that takes on non-numeric values. For this one, you need to re-encode the values as numbers or create a dummy variable.\n",
    "- For multi-level categoricals (three or more values), you can choose to encode the values using multiple dummy variables (e.g. via [OneHotEncoder](http://scikit-learn.org/stable/modules/generated/sklearn.preprocessing.OneHotEncoder.html)), or (to keep things straightforward) just drop them from the analysis. As always, document your choices in the Discussion section."
   ]
  },
  {
   "cell_type": "code",
   "execution_count": 21,
   "metadata": {},
   "outputs": [
    {
     "data": {
      "text/plain": [
       "['CJT_GESAMTTYP',\n",
       " 'FINANZTYP',\n",
       " 'GFK_URLAUBERTYP',\n",
       " 'LP_FAMILIE_FEIN',\n",
       " 'LP_FAMILIE_GROB',\n",
       " 'LP_STATUS_FEIN',\n",
       " 'LP_STATUS_GROB',\n",
       " 'NATIONALITAET_KZ',\n",
       " 'SHOPPER_TYP',\n",
       " 'ZABEOTYP',\n",
       " 'GEBAEUDETYP',\n",
       " 'CAMEO_DEUG_2015',\n",
       " 'CAMEO_DEU_2015']"
      ]
     },
     "execution_count": 21,
     "metadata": {},
     "output_type": "execute_result"
    }
   ],
   "source": [
    "# Assess categorical variables: which are binary, which are multi-level, and\n",
    "# which one needs to be re-encoded?\n",
    "\n",
    "multi_col = []\n",
    "binary_col = []\n",
    "\n",
    "for feat in cat_feat.attribute.values:\n",
    "    if azdias[feat].nunique() > 2:\n",
    "        multi_col.append(feat)\n",
    "    else:\n",
    "        binary_col.append(feat)\n",
    "        \n",
    "binary_col\n",
    "multi_col"
   ]
  },
  {
   "cell_type": "code",
   "execution_count": 22,
   "metadata": {},
   "outputs": [],
   "source": [
    "azdias = azdias.replace({'OST_WEST_KZ':  {'W': 0, 'O': 1} })"
   ]
  },
  {
   "cell_type": "code",
   "execution_count": 23,
   "metadata": {},
   "outputs": [
    {
     "data": {
      "text/plain": [
       "(891221, 79)"
      ]
     },
     "execution_count": 23,
     "metadata": {},
     "output_type": "execute_result"
    }
   ],
   "source": [
    "azdias.shape"
   ]
  },
  {
   "cell_type": "code",
   "execution_count": 24,
   "metadata": {},
   "outputs": [],
   "source": [
    "# Re-encode categorical variable(s) to be kept in the analysis.\n",
    "\n",
    "azdias = pd.get_dummies(azdias, columns=multi_col)"
   ]
  },
  {
   "cell_type": "code",
   "execution_count": 25,
   "metadata": {},
   "outputs": [
    {
     "data": {
      "text/plain": [
       "(891221, 194)"
      ]
     },
     "execution_count": 25,
     "metadata": {},
     "output_type": "execute_result"
    }
   ],
   "source": [
    "azdias.shape"
   ]
  },
  {
   "cell_type": "markdown",
   "metadata": {},
   "source": [
    "#### Discussion 1.2.1: Re-Encode Categorical Features\n",
    "\n",
    "First, I devided categorical features into binatry and multi value, then I encoded binary categorical features to 0s and 1s (including OST_WEST_KZ). While for multi value features, I uesd one-hot-encoding. Them number of features increased by 115 from the one-hot-encoding step. Finally, no features needed to be droped in this process."
   ]
  },
  {
   "cell_type": "markdown",
   "metadata": {},
   "source": [
    "#### Step 1.2.2: Engineer Mixed-Type Features\n",
    "\n",
    "There are a handful of features that are marked as \"mixed\" in the feature summary that require special treatment in order to be included in the analysis. There are two in particular that deserve attention; the handling of the rest are up to your own choices:\n",
    "- \"PRAEGENDE_JUGENDJAHRE\" combines information on three dimensions: generation by decade, movement (mainstream vs. avantgarde), and nation (east vs. west). While there aren't enough levels to disentangle east from west, you should create two new variables to capture the other two dimensions: an interval-type variable for decade, and a binary variable for movement.\n",
    "- \"CAMEO_INTL_2015\" combines information on two axes: wealth and life stage. Break up the two-digit codes by their 'tens'-place and 'ones'-place digits into two new ordinal variables (which, for the purposes of this project, is equivalent to just treating them as their raw numeric values).\n",
    "- If you decide to keep or engineer new features around the other mixed-type features, make sure you note your steps in the Discussion section.\n",
    "\n",
    "Be sure to check `Data_Dictionary.md` for the details needed to finish these tasks."
   ]
  },
  {
   "cell_type": "code",
   "execution_count": 26,
   "metadata": {},
   "outputs": [],
   "source": [
    "# Investigate \"PRAEGENDE_JUGENDJAHRE\" and engineer two new variables.\n",
    "def map_decade(x):\n",
    "    if pd.isnull(x):\n",
    "        return np.nan\n",
    "    elif x in (1,2):\n",
    "        return 1\n",
    "    elif x in (3,4):\n",
    "        return 2\n",
    "    elif x in (5,6,7):\n",
    "        return 3\n",
    "    elif x in (8,9):\n",
    "        return 4\n",
    "    elif x in (10,11,12,13):\n",
    "        return 5\n",
    "    elif x in (14,15):\n",
    "        return 6\n",
    "    \n",
    "def map_mov(x):\n",
    "    if pd.isnull(x):\n",
    "        return np.nan\n",
    "    elif x in (2,4,6,7,9,11,13,15):\n",
    "        return 0\n",
    "    elif x in (1,3,5,8,10,12,14):\n",
    "        return 1"
   ]
  },
  {
   "cell_type": "code",
   "execution_count": 27,
   "metadata": {},
   "outputs": [],
   "source": [
    "# Deriving 2 new variables, and droping the original one\n",
    "azdias['PRAEGENDE_JUGENDJAHRE_DECADE'] = azdias['PRAEGENDE_JUGENDJAHRE'].apply(map_decade)\n",
    "azdias['PRAEGENDE_JUGENDJAHRE_MOVEMENT'] = azdias['PRAEGENDE_JUGENDJAHRE'].apply(map_mov)\n",
    "azdias.drop('PRAEGENDE_JUGENDJAHRE', axis=1, inplace=True)"
   ]
  },
  {
   "cell_type": "code",
   "execution_count": 28,
   "metadata": {},
   "outputs": [],
   "source": [
    "# Investigate \"CAMEO_INTL_2015\" and engineer two new variables.\n",
    "def map_wealth(x):\n",
    "\n",
    "    try:\n",
    "        if pd.isnull(x):\n",
    "            return np.nan\n",
    "        elif int(x) // 10 == 1:\n",
    "            return 1\n",
    "        elif int(x) // 10 == 2:\n",
    "            return 2\n",
    "        elif int(x) // 10 == 3:\n",
    "            return 3\n",
    "        elif int(x) // 10 == 4:\n",
    "            return 4\n",
    "        elif int(x) // 10 == 5:\n",
    "            return 5\n",
    "    except ValueError:\n",
    "        return np.nan\n",
    "    \n",
    "def map_life_stage(x):\n",
    "    \n",
    "    try:\n",
    "        if pd.isnull(x):\n",
    "            return np.nan\n",
    "        elif int(x) % 10 == 1:\n",
    "            return 1\n",
    "        elif int(x) % 10 == 2:\n",
    "            return 2\n",
    "        elif int(x) % 10 == 3:\n",
    "            return 3\n",
    "        elif int(x) % 10 == 4:\n",
    "            return 4\n",
    "        elif int(x) % 10 == 5:\n",
    "            return 5\n",
    "    except ValueError:\n",
    "        return np.nan\n",
    "        "
   ]
  },
  {
   "cell_type": "code",
   "execution_count": 29,
   "metadata": {},
   "outputs": [],
   "source": [
    "# Deriving 2 new variables, and droping the original one\n",
    "azdias['CAMEO_INTL_2015_WEALTH'] = azdias['CAMEO_INTL_2015'].apply(map_wealth)\n",
    "azdias['CAMEO_INTL_2015_LIFE_STAGE'] = azdias['CAMEO_INTL_2015'].apply(map_life_stage)\n",
    "azdias.drop('CAMEO_INTL_2015', axis=1, inplace=True)"
   ]
  },
  {
   "cell_type": "markdown",
   "metadata": {},
   "source": [
    "#### Discussion 1.2.2: Engineer Mixed-Type Features\n",
    "\n",
    "I derived 2 variables from PRAEGENDE_JUGENDJAHRE which are decade and movement and dropped the original PRAEGENDE_JUGENDJAHRE. I also derived 2 variables from CAMEO_INTL_2015 and dropped the original one. The 2 variables are wealth and life stage."
   ]
  },
  {
   "cell_type": "markdown",
   "metadata": {},
   "source": [
    "#### Step 1.2.3: Complete Feature Selection\n",
    "\n",
    "In order to finish this step up, you need to make sure that your data frame now only has the columns that you want to keep. To summarize, the dataframe should consist of the following:\n",
    "- All numeric, interval, and ordinal type columns from the original dataset.\n",
    "- Binary categorical features (all numerically-encoded).\n",
    "- Engineered features from other multi-level categorical features and mixed features.\n",
    "\n",
    "Make sure that for any new columns that you have engineered, that you've excluded the original columns from the final dataset. Otherwise, their values will interfere with the analysis later on the project. For example, you should not keep \"PRAEGENDE_JUGENDJAHRE\", since its values won't be useful for the algorithm: only the values derived from it in the engineered features you created should be retained. As a reminder, your data should only be from **the subset with few or no missing values**."
   ]
  },
  {
   "cell_type": "code",
   "execution_count": 30,
   "metadata": {},
   "outputs": [
    {
     "data": {
      "text/plain": [
       "Index(['ALTERSKATEGORIE_GROB', 'ANREDE_KZ', 'FINANZ_MINIMALIST',\n",
       "       'FINANZ_SPARER', 'FINANZ_VORSORGER', 'FINANZ_ANLEGER',\n",
       "       'FINANZ_UNAUFFAELLIGER', 'FINANZ_HAUSBAUER', 'GREEN_AVANTGARDE',\n",
       "       'HEALTH_TYP',\n",
       "       ...\n",
       "       'CAMEO_DEU_2015_8D', 'CAMEO_DEU_2015_9A', 'CAMEO_DEU_2015_9B',\n",
       "       'CAMEO_DEU_2015_9C', 'CAMEO_DEU_2015_9D', 'CAMEO_DEU_2015_9E',\n",
       "       'PRAEGENDE_JUGENDJAHRE_DECADE', 'PRAEGENDE_JUGENDJAHRE_MOVEMENT',\n",
       "       'CAMEO_INTL_2015_WEALTH', 'CAMEO_INTL_2015_LIFE_STAGE'],\n",
       "      dtype='object', length=196)"
      ]
     },
     "execution_count": 30,
     "metadata": {},
     "output_type": "execute_result"
    }
   ],
   "source": [
    "# If there are other re-engineering tasks you need to perform, make sure you\n",
    "# take care of them here. (Dealing with missing data will come in step 2.1.)\n",
    "azdias.columns"
   ]
  },
  {
   "cell_type": "code",
   "execution_count": 31,
   "metadata": {},
   "outputs": [
    {
     "data": {
      "text/plain": [
       "(891221, 196)"
      ]
     },
     "execution_count": 31,
     "metadata": {},
     "output_type": "execute_result"
    }
   ],
   "source": [
    "# Do whatever you need to in order to ensure that the dataframe only contains\n",
    "# the columns that should be passed to the algorithm functions.\n",
    "azdias.shape"
   ]
  },
  {
   "cell_type": "markdown",
   "metadata": {},
   "source": [
    "### Step 1.3: Create a Cleaning Function\n",
    "\n",
    "Even though you've finished cleaning up the general population demographics data, it's important to look ahead to the future and realize that you'll need to perform the same cleaning steps on the customer demographics data. In this substep, complete the function below to execute the main feature selection, encoding, and re-engineering steps you performed above. Then, when it comes to looking at the customer data in Step 3, you can just run this function on that DataFrame to get the trimmed dataset in a single step."
   ]
  },
  {
   "cell_type": "code",
   "execution_count": 32,
   "metadata": {},
   "outputs": [],
   "source": [
    "def clean_data(df):\n",
    "    \"\"\"\n",
    "    Perform feature trimming, re-encoding, and engineering for demographics\n",
    "    data\n",
    "    \n",
    "    INPUT: Demographics DataFrame\n",
    "    OUTPUT: Trimmed and cleaned demographics DataFrame\n",
    "    \"\"\"\n",
    "    \n",
    "    # convert missing value codes into NaNs, ...\n",
    "    for feature in range(df.shape[1]):\n",
    "        lost_value = feat_info.iloc[feature]['missing_or_unknown']\n",
    "        lost_value = lost_value.strip('[')\n",
    "        lost_value = lost_value.strip(']')\n",
    "        lost_value = lost_value.split(sep=',')\n",
    "        lost_value = [int(value) if (value!='X' and value!='XX' and value!='') else value for value in lost_value]\n",
    "        if lost_value != ['']:\n",
    "            cleaned_df = df.replace({feat_info.iloc[feature]['attribute']: lost_value}, np.nan)\n",
    "    \n",
    "   \n",
    "    # Dropping outliers that missed >20% of the values in the general azdias dataset\n",
    "    outliers = ['TITEL_KZ',\n",
    "                 'AGER_TYP',\n",
    "                 'KK_KUNDENTYP',\n",
    "                 'KBA05_BAUMAX',\n",
    "                 'GEBURTSJAHR',\n",
    "                 'ALTER_HH']\n",
    "    \n",
    "    cleaned_df = cleaned_df.drop(outliers, axis=1)\n",
    "    \n",
    "    cat_feat = feat_info[ feat_info['type'] == 'categorical' ]\n",
    "    mixed_feat = feat_info[ feat_info['type'] == 'mixed' ]\n",
    "\n",
    "    # Removing columns that are not in passed dataframe from categorical features\n",
    "    i = 0\n",
    "    for feat in cat_feat.attribute.values:\n",
    "        if feat not in cleaned_df.columns:\n",
    "            cat_feat.drop(cat_feat.index[i] , inplace = True)\n",
    "        else:\n",
    "            i = i + 1\n",
    "\n",
    "    # Removing columns that are not in passed dataframe from mixed features\n",
    "    i = 0\n",
    "    for feat in mixed_feat.attribute.values:\n",
    "        if feat not in cleaned_df.columns:\n",
    "            mixed_feat.drop(mixed_feat.index[i] , inplace = True)\n",
    "        else:\n",
    "            i = i + 1\n",
    "\n",
    "\n",
    "    if 'OST_WEST_KZ' in cleaned_df:\n",
    "        cleaned_df = cleaned_df.replace({'OST_WEST_KZ':  {'W': 0, 'O': 1} })\n",
    "\n",
    "    cleaned_df = pd.get_dummies(data=cleaned_df, columns=multi_col)\n",
    "            \n",
    "    if 'PRAEGENDE_JUGENDJAHRE' in df:\n",
    "        \n",
    "        cleaned_df['PRAEGENDE_JUGENDJAHRE_DECADE'] = cleaned_df['PRAEGENDE_JUGENDJAHRE'].apply(map_decade)\n",
    "        cleaned_df['PRAEGENDE_JUGENDJAHRE_MOVEMENT'] = cleaned_df['PRAEGENDE_JUGENDJAHRE'].apply(map_mov)\n",
    "        cleaned_df.drop('PRAEGENDE_JUGENDJAHRE', axis=1, inplace=True)\n",
    "    \n",
    "    \n",
    "    \n",
    "    if 'CAMEO_INTL_2015' in cleaned_df:\n",
    "        \n",
    "        cleaned_df['CAMEO_INTL_2015_WEALTH'] = cleaned_df['CAMEO_INTL_2015'].apply(map_wealth)\n",
    "        cleaned_df['CAMEO_INTL_2015_LIFE_STAGE'] = cleaned_df['CAMEO_INTL_2015'].apply(map_life_stage)\n",
    "        cleaned_df.drop('CAMEO_INTL_2015', axis=1, inplace=True)\n",
    "        \n",
    "    # maping column names with genral dataset\n",
    "    \n",
    "    mapping = {'NATIONALITAET_KZ_1': 'NATIONALITAET_KZ_1.0',\\\n",
    "               'NATIONALITAET_KZ_2': 'NATIONALITAET_KZ_2.0',\\\n",
    "               'NATIONALITAET_KZ_3': 'NATIONALITAET_KZ_3.0',\\\n",
    "               'SHOPPER_TYP_0': 'SHOPPER_TYP_0.0',\\\n",
    "               'SHOPPER_TYP_1': 'SHOPPER_TYP_1.0',\\\n",
    "               'SHOPPER_TYP_2': 'SHOPPER_TYP_2.0',\\\n",
    "               'SHOPPER_TYP_3': 'SHOPPER_TYP_3.0'}\n",
    "    \n",
    "    cleaned_df = cleaned_df.rename( columns=mapping )\n",
    "    \n",
    "    cleaned_df['GEBAEUDETYP_5.0'] = 0\n",
    "        \n",
    "    cleaned_df = cleaned_df[azdias.columns]\n",
    "  \n",
    "    # Return the cleaned dataframe.\n",
    "    \n",
    "    return cleaned_df"
   ]
  },
  {
   "cell_type": "markdown",
   "metadata": {},
   "source": [
    "## Step 2: Feature Transformation\n",
    "\n",
    "### Step 2.1: Apply Feature Scaling\n",
    "\n",
    "Before we apply dimensionality reduction techniques to the data, we need to perform feature scaling so that the principal component vectors are not influenced by the natural differences in scale for features. Starting from this part of the project, you'll want to keep an eye on the [API reference page for sklearn](http://scikit-learn.org/stable/modules/classes.html) to help you navigate to all of the classes and functions that you'll need. In this substep, you'll need to check the following:\n",
    "\n",
    "- sklearn requires that data not have missing values in order for its estimators to work properly. So, before applying the scaler to your data, make sure that you've cleaned the DataFrame of the remaining missing values. This can be as simple as just removing all data points with missing data, or applying an [Imputer](http://scikit-learn.org/stable/modules/generated/sklearn.preprocessing.Imputer.html) to replace all missing values. You might also try a more complicated procedure where you temporarily remove missing values in order to compute the scaling parameters before re-introducing those missing values and applying imputation. Think about how much missing data you have and what possible effects each approach might have on your analysis, and justify your decision in the discussion section below.\n",
    "- For the actual scaling function, a [StandardScaler](http://scikit-learn.org/stable/modules/generated/sklearn.preprocessing.StandardScaler.html) instance is suggested, scaling each feature to mean 0 and standard deviation 1.\n",
    "- For these classes, you can make use of the `.fit_transform()` method to both fit a procedure to the data as well as apply the transformation to the data at the same time. Don't forget to keep the fit sklearn objects handy, since you'll be applying them to the customer demographics data towards the end of the project."
   ]
  },
  {
   "cell_type": "code",
   "execution_count": 33,
   "metadata": {},
   "outputs": [],
   "source": [
    "# If you've not yet cleaned the dataset of all NaN values, then investigate and\n",
    "# do that now.\n",
    "\n",
    "imputer = Imputer(strategy='median')\n",
    "azdias_imputed = imputer.fit_transform(azdias)"
   ]
  },
  {
   "cell_type": "code",
   "execution_count": 34,
   "metadata": {},
   "outputs": [],
   "source": [
    "# Apply feature scaling to the general population demographics data.\n",
    "\n",
    "scaler = StandardScaler()\n",
    "azdias_scaled = scaler.fit_transform(azdias_imputed)"
   ]
  },
  {
   "cell_type": "code",
   "execution_count": 35,
   "metadata": {},
   "outputs": [],
   "source": [
    "azdias_scaled = pd.DataFrame(azdias_scaled, columns=list(azdias), index=list(azdias.index))"
   ]
  },
  {
   "cell_type": "markdown",
   "metadata": {},
   "source": [
    "### Discussion 2.1: Apply Feature Scaling\n",
    "\n",
    "I used imputer to resolve the problem of NaNs with median as the strategy as if doesn't respond to outliers. I used standard scalar to standarize the azdias dataset with mean 0 and variance 1."
   ]
  },
  {
   "cell_type": "markdown",
   "metadata": {},
   "source": [
    "### Step 2.2: Perform Dimensionality Reduction\n",
    "\n",
    "On your scaled data, you are now ready to apply dimensionality reduction techniques.\n",
    "\n",
    "- Use sklearn's [PCA](http://scikit-learn.org/stable/modules/generated/sklearn.decomposition.PCA.html) class to apply principal component analysis on the data, thus finding the vectors of maximal variance in the data. To start, you should not set any parameters (so all components are computed) or set a number of components that is at least half the number of features (so there's enough features to see the general trend in variability).\n",
    "- Check out the ratio of variance explained by each principal component as well as the cumulative variance explained. Try plotting the cumulative or sequential values using matplotlib's [`plot()`](https://matplotlib.org/api/_as_gen/matplotlib.pyplot.plot.html) function. Based on what you find, select a value for the number of transformed features you'll retain for the clustering part of the project.\n",
    "- Once you've made a choice for the number of components to keep, make sure you re-fit a PCA instance to perform the decided-on transformation."
   ]
  },
  {
   "cell_type": "code",
   "execution_count": 36,
   "metadata": {},
   "outputs": [],
   "source": [
    "# Apply PCA to the data.\n",
    "\n",
    "pca = PCA()\n",
    "azdias_pca = pca.fit_transform(azdias_scaled)"
   ]
  },
  {
   "cell_type": "code",
   "execution_count": 37,
   "metadata": {},
   "outputs": [
    {
     "data": {
      "image/png": "[encoded data removed]",
      "text/plain": [
       "<matplotlib.figure.Figure at 0x7f13a53785f8>"
      ]
     },
     "metadata": {
      "needs_background": "light"
     },
     "output_type": "display_data"
    }
   ],
   "source": [
    "# Investigate the variance accounted for by each principal component.\n",
    "\n",
    "def scree_plot(pca):\n",
    "    '''\n",
    "    Creates a scree plot associated with the principal components \n",
    "    \n",
    "    INPUT: pca - the result of instantian of PCA in scikit learn\n",
    "            \n",
    "    OUTPUT:\n",
    "            None\n",
    "    '''\n",
    "    num_components=len(pca.explained_variance_ratio_)\n",
    "    ind = np.arange(num_components)\n",
    "    vals = pca.explained_variance_ratio_\n",
    " \n",
    "    plt.figure(figsize=(10, 6))\n",
    "    ax = plt.subplot(111)\n",
    "    cumvals = np.cumsum(vals)\n",
    "    ax.bar(ind, vals)\n",
    "    ax.plot(ind, cumvals)\n",
    "    for i in range(num_components):\n",
    "        ax.annotate(r\"%s\" % ((str(vals[i]*100)[:3])), (ind[i], vals[i]), va=\"bottom\", ha=\"center\", fontsize=4.5)\n",
    "        \n",
    "    ax.xaxis.set_tick_params(width=0)\n",
    "    ax.yaxis.set_tick_params(width=2, length=12)\n",
    " \n",
    "    ax.set_xlabel(\"Principal Component\")\n",
    "    ax.set_ylabel(\"Variance Explained (%)\")\n",
    "    plt.title('Explained Variance Per Principal Component')\n",
    "\n",
    "scree_plot(pca)"
   ]
  },
  {
   "cell_type": "code",
   "execution_count": 38,
   "metadata": {},
   "outputs": [],
   "source": [
    "# Re-apply PCA to the data while selecting for number of components to retain.\n",
    "\n",
    "pca_33 = PCA(n_components = 33)\n",
    "azdias_pca = pca_33.fit_transform(azdias_scaled)"
   ]
  },
  {
   "cell_type": "code",
   "execution_count": 39,
   "metadata": {},
   "outputs": [
    {
     "data": {
      "image/png": "[encoded data removed]",
      "text/plain": [
       "<matplotlib.figure.Figure at 0x7f13a5426860>"
      ]
     },
     "metadata": {
      "needs_background": "light"
     },
     "output_type": "display_data"
    }
   ],
   "source": [
    "scree_plot(pca)"
   ]
  },
  {
   "cell_type": "markdown",
   "metadata": {},
   "source": [
    "### Discussion 2.2: Perform Dimensionality Reduction\n",
    "\n",
    "First, I used Standrization to scale the dataset before performing PCA. Then, I run PCA with number of components that constitutes half of the features. Looking at the scree plot, I dicided to take 33 components acheiving 50% variance."
   ]
  },
  {
   "cell_type": "markdown",
   "metadata": {},
   "source": [
    "### Step 2.3: Interpret Principal Components\n",
    "\n",
    "Now that we have our transformed principal components, it's a nice idea to check out the weight of each variable on the first few components to see if they can be interpreted in some fashion.\n",
    "\n",
    "As a reminder, each principal component is a unit vector that points in the direction of highest variance (after accounting for the variance captured by earlier principal components). The further a weight is from zero, the more the principal component is in the direction of the corresponding feature. If two features have large weights of the same sign (both positive or both negative), then increases in one tend expect to be associated with increases in the other. To contrast, features with different signs can be expected to show a negative correlation: increases in one variable should result in a decrease in the other.\n",
    "\n",
    "- To investigate the features, you should map each weight to their corresponding feature name, then sort the features according to weight. The most interesting features for each principal component, then, will be those at the beginning and end of the sorted list. Use the data dictionary document to help you understand these most prominent features, their relationships, and what a positive or negative value on the principal component might indicate.\n",
    "- You should investigate and interpret feature associations from the first three principal components in this substep. To help facilitate this, you should write a function that you can call at any time to print the sorted list of feature weights, for the *i*-th principal component. This might come in handy in the next step of the project, when you interpret the tendencies of the discovered clusters."
   ]
  },
  {
   "cell_type": "code",
   "execution_count": 40,
   "metadata": {},
   "outputs": [],
   "source": [
    "# Map weights for the first principal component to corresponding feature names\n",
    "# and then print the linked values, sorted by weight.\n",
    "# HINT: Try defining a function here or in a new cell that you can reuse in the\n",
    "# other cells.\n",
    "def plot_pca_weights(pca, n_component):\n",
    "\n",
    "    df = pd.DataFrame(pca.components_, columns=list(azdias_scaled.columns))\n",
    "    full_weights = df.iloc[n_component-1].sort_values(ascending=False)\n",
    "    brief_weights = pd.concat([full_weights.head(5), full_weights.tail(5)])\n",
    "    \n",
    "    brief_weights.plot(kind='bar', title='Component ' + str(n_component))\n",
    "    ax = plt.gca()\n",
    "    ax.grid(linewidth='0.5', alpha=0.5)\n",
    "    ax.set_axisbelow(True)\n",
    "    plt.show()\n",
    "    \n",
    "    return full_weights"
   ]
  },
  {
   "cell_type": "code",
   "execution_count": 41,
   "metadata": {},
   "outputs": [
    {
     "data": {
      "image/png": "[encoded data removed]",
      "text/plain": [
       "<matplotlib.figure.Figure at 0x7f13a407ef28>"
      ]
     },
     "metadata": {
      "needs_background": "light"
     },
     "output_type": "display_data"
    },
    {
     "data": {
      "text/plain": [
       "LP_STATUS_GROB_1.0                0.182680\n",
       "PLZ8_ANTG3                        0.181918\n",
       "CAMEO_INTL_2015_WEALTH            0.181641\n",
       "PLZ8_ANTG4                        0.176571\n",
       "PLZ8_BAUMAX                       0.166278\n",
       "HH_EINKOMMEN_SCORE                0.158397\n",
       "ORTSGR_KLS9                       0.155622\n",
       "EWDICHTE                          0.154873\n",
       "FINANZ_HAUSBAUER                  0.146349\n",
       "PLZ8_ANTG2                        0.125535\n",
       "KBA05_ANTG4                       0.125532\n",
       "LP_STATUS_FEIN_1.0                0.123451\n",
       "ANZ_HAUSHALTE_AKTIV               0.113394\n",
       "ARBEIT                            0.112722\n",
       "KBA05_ANTG3                       0.111038\n",
       "CAMEO_DEUG_2015_9                 0.109066\n",
       "RELAT_AB                          0.107196\n",
       "LP_STATUS_FEIN_2.0                0.104480\n",
       "FINANZ_SPARER                     0.100887\n",
       "PRAEGENDE_JUGENDJAHRE_MOVEMENT    0.100661\n",
       "FINANZTYP_1                       0.099131\n",
       "LP_FAMILIE_FEIN_1.0               0.093486\n",
       "LP_FAMILIE_GROB_1.0               0.093486\n",
       "CAMEO_DEUG_2015_8                 0.088783\n",
       "SEMIO_PFLICHT                     0.072379\n",
       "ZABEOTYP_5                        0.068910\n",
       "SEMIO_REL                         0.066706\n",
       "GEBAEUDETYP_3.0                   0.063934\n",
       "CAMEO_DEU_2015_8A                 0.060896\n",
       "SEMIO_RAT                         0.059063\n",
       "                                    ...   \n",
       "ONLINE_AFFINITAET                -0.064508\n",
       "WOHNLAGE                         -0.064931\n",
       "CAMEO_DEUG_2015_3                -0.066058\n",
       "ALTERSKATEGORIE_GROB             -0.069611\n",
       "FINANZTYP_2                      -0.071835\n",
       "FINANZ_VORSORGER                 -0.072595\n",
       "CAMEO_DEUG_2015_4                -0.073689\n",
       "LP_FAMILIE_GROB_5.0              -0.078758\n",
       "GEBAEUDETYP_1.0                  -0.086866\n",
       "CAMEO_DEUG_2015_2                -0.087551\n",
       "BALLRAUM                         -0.094854\n",
       "ANZ_PERSONEN                     -0.095215\n",
       "GEBAEUDETYP_RASTER               -0.096056\n",
       "ZABEOTYP_1                       -0.096845\n",
       "GREEN_AVANTGARDE                 -0.100661\n",
       "CAMEO_INTL_2015_LIFE_STAGE       -0.106696\n",
       "LP_STATUS_FEIN_9.0               -0.107910\n",
       "LP_STATUS_GROB_5.0               -0.109545\n",
       "LP_STATUS_FEIN_10.0              -0.109545\n",
       "LP_STATUS_GROB_4.0               -0.109641\n",
       "INNENSTADT                       -0.127087\n",
       "LP_LEBENSPHASE_GROB              -0.129694\n",
       "PLZ8_GBZ                         -0.134126\n",
       "KONSUMNAEHE                      -0.136343\n",
       "LP_LEBENSPHASE_FEIN              -0.142418\n",
       "KBA05_GBZ                        -0.178932\n",
       "FINANZ_MINIMALIST                -0.180029\n",
       "PLZ8_ANTG1                       -0.183119\n",
       "KBA05_ANTG1                      -0.186017\n",
       "MOBI_REGIO                       -0.202173\n",
       "Name: 0, Length: 196, dtype: float64"
      ]
     },
     "execution_count": 41,
     "metadata": {},
     "output_type": "execute_result"
    }
   ],
   "source": [
    "plot_pca_weights(pca, 1)"
   ]
  },
  {
   "cell_type": "code",
   "execution_count": 42,
   "metadata": {},
   "outputs": [
    {
     "data": {
      "image/png": "[encoded data removed]",
      "text/plain": [
       "<matplotlib.figure.Figure at 0x7f13a4068d68>"
      ]
     },
     "metadata": {
      "needs_background": "light"
     },
     "output_type": "display_data"
    },
    {
     "data": {
      "text/plain": [
       "ALTERSKATEGORIE_GROB            0.237715\n",
       "FINANZ_VORSORGER                0.229674\n",
       "SEMIO_ERL                       0.179554\n",
       "ZABEOTYP_3                      0.160789\n",
       "SEMIO_LUST                      0.160516\n",
       "RETOURTYP_BK_S                  0.159666\n",
       "W_KEIT_KIND_HH                  0.132124\n",
       "CJT_GESAMTTYP_2.0               0.112732\n",
       "FINANZTYP_5                     0.109572\n",
       "FINANZ_MINIMALIST               0.106802\n",
       "FINANZTYP_2                     0.103728\n",
       "LP_STATUS_FEIN_1.0              0.094656\n",
       "NATIONALITAET_KZ_1.0            0.093048\n",
       "SHOPPER_TYP_3.0                 0.079807\n",
       "FINANZTYP_6                     0.078550\n",
       "CJT_GESAMTTYP_1.0               0.076207\n",
       "FINANZ_HAUSBAUER                0.075317\n",
       "LP_FAMILIE_GROB_1.0             0.069128\n",
       "LP_FAMILIE_FEIN_1.0             0.069128\n",
       "GFK_URLAUBERTYP_4.0             0.062300\n",
       "PLZ8_BAUMAX                     0.060884\n",
       "ORTSGR_KLS9                     0.058867\n",
       "EWDICHTE                        0.056793\n",
       "LP_STATUS_FEIN_3.0              0.053861\n",
       "KBA05_ANTG4                     0.052897\n",
       "GFK_URLAUBERTYP_7.0             0.047792\n",
       "ARBEIT                          0.046986\n",
       "HH_EINKOMMEN_SCORE              0.046977\n",
       "PLZ8_ANTG3                      0.046789\n",
       "WOHNDAUER_2008                  0.046454\n",
       "                                  ...   \n",
       "KBA05_GBZ                      -0.047774\n",
       "NATIONALITAET_KZ_3.0           -0.048057\n",
       "LP_FAMILIE_GROB_3.0            -0.048350\n",
       "PLZ8_ANTG1                     -0.048718\n",
       "INNENSTADT                     -0.049458\n",
       "HEALTH_TYP                     -0.049687\n",
       "MOBI_REGIO                     -0.050591\n",
       "ANZ_PERSONEN                   -0.050955\n",
       "LP_FAMILIE_GROB_4.0            -0.065400\n",
       "CJT_GESAMTTYP_6.0              -0.066017\n",
       "FINANZTYP_3                    -0.066557\n",
       "GFK_URLAUBERTYP_9.0            -0.070562\n",
       "LP_STATUS_FEIN_5.0             -0.088719\n",
       "ZABEOTYP_5                     -0.090977\n",
       "LP_STATUS_FEIN_2.0             -0.097319\n",
       "ZABEOTYP_4                     -0.098326\n",
       "FINANZTYP_4                    -0.102187\n",
       "FINANZTYP_1                    -0.131096\n",
       "SEMIO_FAM                      -0.134214\n",
       "SEMIO_MAT                      -0.136368\n",
       "SEMIO_KULT                     -0.140541\n",
       "ONLINE_AFFINITAET              -0.151404\n",
       "SEMIO_RAT                      -0.181869\n",
       "SEMIO_TRADV                    -0.203380\n",
       "SEMIO_PFLICHT                  -0.216438\n",
       "SEMIO_REL                      -0.216792\n",
       "FINANZ_ANLEGER                 -0.220574\n",
       "FINANZ_UNAUFFAELLIGER          -0.222615\n",
       "PRAEGENDE_JUGENDJAHRE_DECADE   -0.238940\n",
       "FINANZ_SPARER                  -0.243252\n",
       "Name: 1, Length: 196, dtype: float64"
      ]
     },
     "execution_count": 42,
     "metadata": {},
     "output_type": "execute_result"
    }
   ],
   "source": [
    "# Map weights for the second principal component to corresponding feature names\n",
    "# and then print the linked values, sorted by weight.\n",
    "\n",
    "plot_pca_weights(pca, 2)"
   ]
  },
  {
   "cell_type": "code",
   "execution_count": 43,
   "metadata": {},
   "outputs": [
    {
     "data": {
      "image/png": "[encoded data removed]",
      "text/plain": [
       "<matplotlib.figure.Figure at 0x7f139f5a65c0>"
      ]
     },
     "metadata": {
      "needs_background": "light"
     },
     "output_type": "display_data"
    },
    {
     "data": {
      "text/plain": [
       "SEMIO_VERT                        0.318903\n",
       "SEMIO_SOZ                         0.272541\n",
       "SEMIO_KULT                        0.269002\n",
       "SEMIO_FAM                         0.184423\n",
       "SHOPPER_TYP_0.0                   0.131364\n",
       "ZABEOTYP_1                        0.127987\n",
       "FINANZTYP_5                       0.110585\n",
       "NATIONALITAET_KZ_1.0              0.102442\n",
       "GREEN_AVANTGARDE                  0.093231\n",
       "FINANZ_MINIMALIST                 0.087758\n",
       "PLZ8_BAUMAX                       0.082780\n",
       "SHOPPER_TYP_1.0                   0.082777\n",
       "ANZ_PERSONEN                      0.070183\n",
       "SEMIO_MAT                         0.068159\n",
       "ORTSGR_KLS9                       0.066405\n",
       "LP_STATUS_FEIN_10.0               0.063497\n",
       "LP_STATUS_GROB_5.0                0.063497\n",
       "LP_LEBENSPHASE_GROB               0.055579\n",
       "EWDICHTE                          0.055160\n",
       "ZABEOTYP_6                        0.054947\n",
       "GEBAEUDETYP_3.0                   0.053222\n",
       "LP_FAMILIE_GROB_5.0               0.052725\n",
       "LP_STATUS_FEIN_1.0                0.052200\n",
       "SEMIO_TRADV                       0.050831\n",
       "CJT_GESAMTTYP_4.0                 0.050788\n",
       "ONLINE_AFFINITAET                 0.049753\n",
       "KBA05_ANTG4                       0.048338\n",
       "NATIONALITAET_KZ_2.0              0.047607\n",
       "CAMEO_DEUG_2015_9                 0.047601\n",
       "SEMIO_REL                         0.045494\n",
       "                                    ...   \n",
       "CAMEO_INTL_2015_LIFE_STAGE       -0.029477\n",
       "PLZ8_ANTG1                       -0.029795\n",
       "REGIOTYP                         -0.033044\n",
       "CJT_GESAMTTYP_2.0                -0.033574\n",
       "SEMIO_LUST                       -0.036428\n",
       "KONSUMNAEHE                      -0.038960\n",
       "SHOPPER_TYP_2.0                  -0.040646\n",
       "KKK                              -0.042214\n",
       "FINANZ_SPARER                    -0.042579\n",
       "GEBAEUDETYP_RASTER               -0.051332\n",
       "VERS_TYP                         -0.057645\n",
       "FINANZ_HAUSBAUER                 -0.060111\n",
       "LP_STATUS_FEIN_4.0               -0.062137\n",
       "INNENSTADT                       -0.065296\n",
       "BALLRAUM                         -0.066823\n",
       "FINANZ_UNAUFFAELLIGER            -0.082667\n",
       "PRAEGENDE_JUGENDJAHRE_MOVEMENT   -0.093231\n",
       "SEMIO_RAT                        -0.098796\n",
       "CJT_GESAMTTYP_6.0                -0.098826\n",
       "GFK_URLAUBERTYP_5.0              -0.099896\n",
       "LP_STATUS_GROB_2.0               -0.109350\n",
       "FINANZTYP_4                      -0.121663\n",
       "LP_STATUS_FEIN_5.0               -0.134821\n",
       "ZABEOTYP_3                       -0.141386\n",
       "FINANZ_ANLEGER                   -0.151562\n",
       "SEMIO_ERL                        -0.159522\n",
       "SEMIO_DOM                        -0.271827\n",
       "ANREDE_KZ                        -0.287244\n",
       "SEMIO_KRIT                       -0.291632\n",
       "SEMIO_KAEM                       -0.303804\n",
       "Name: 2, Length: 196, dtype: float64"
      ]
     },
     "execution_count": 43,
     "metadata": {},
     "output_type": "execute_result"
    }
   ],
   "source": [
    "# Map weights for the third principal component to corresponding feature names\n",
    "# and then print the linked values, sorted by weight.\n",
    "\n",
    "plot_pca_weights(pca, 3)"
   ]
  },
  {
   "cell_type": "markdown",
   "metadata": {},
   "source": [
    "### Discussion 2.3: Interpret Principal Components\n",
    "\n",
    "#### Observations from component 1:\n",
    "- LP_STATUS_GROB (social status) and PLZ8_ANTG3 (the share of 6-10 family houses in region) shows a positive correlation, beside they constitute the heighest weights contributing to the outpout of component 1\n",
    "    \n",
    "- LP_STATUS_GROB (social status) and MOBI_REGIO (movement patterns) shows a highly negative correlation\n",
    "\n",
    "#### Observations from component 2:\n",
    "- ALTERSKATEGORIE_GROB (Estimated age) and FINANZ_VORSORGER (Prepared Financial typology, average dimension) shows a positively propotional realtions and constitute the heaviest positive weight contribution to the outpout of component 2\n",
    "    \n",
    "- ALTERSKATEGORIE_GROB (Estimated age) and FINANZ_SPARER (mony-savor Financial typology, high dimension) shows a highly negative correlation\n",
    "\n",
    "#### Observations from component 3:\n",
    "- SEMIO_VERT (dreamful personal typology, low affinity) and SEMIO_SOZ (socially-minded typology, highest affinity) shows a positively propotional realtions and constitute the heaviest positive weight contribution to the outpout of component 2"
   ]
  },
  {
   "cell_type": "markdown",
   "metadata": {},
   "source": [
    "## Step 3: Clustering\n",
    "\n",
    "### Step 3.1: Apply Clustering to General Population\n",
    "\n",
    "You've assessed and cleaned the demographics data, then scaled and transformed them. Now, it's time to see how the data clusters in the principal components space. In this substep, you will apply k-means clustering to the dataset and use the average within-cluster distances from each point to their assigned cluster's centroid to decide on a number of clusters to keep.\n",
    "\n",
    "- Use sklearn's [KMeans](http://scikit-learn.org/stable/modules/generated/sklearn.cluster.KMeans.html#sklearn.cluster.KMeans) class to perform k-means clustering on the PCA-transformed data.\n",
    "- Then, compute the average difference from each point to its assigned cluster's center. **Hint**: The KMeans object's `.score()` method might be useful here, but note that in sklearn, scores tend to be defined so that larger is better. Try applying it to a small, toy dataset, or use an internet search to help your understanding.\n",
    "- Perform the above two steps for a number of different cluster counts. You can then see how the average distance decreases with an increasing number of clusters. However, each additional cluster provides a smaller net benefit. Use this fact to select a final number of clusters in which to group the data. **Warning**: because of the large size of the dataset, it can take a long time for the algorithm to resolve. The more clusters to fit, the longer the algorithm will take. You should test for cluster counts through at least 10 clusters to get the full picture, but you shouldn't need to test for a number of clusters above about 30.\n",
    "- Once you've selected a final number of clusters to use, re-fit a KMeans instance to perform the clustering operation. Make sure that you also obtain the cluster assignments for the general demographics data, since you'll be using them in the final Step 3.3."
   ]
  },
  {
   "cell_type": "code",
   "execution_count": 44,
   "metadata": {},
   "outputs": [],
   "source": [
    "# Over a number of different cluster counts...\n",
    "    # run k-means clustering on the data and... \n",
    "    # compute the average within-cluster distances.\n",
    "    \n",
    "def get_kmeans_score(cluster_count, data):\n",
    "    \n",
    "    print('getting score of K = ', cluster_count)\n",
    "    \n",
    "    kmeans = KMeans(n_clusters = cluster_count) \n",
    "\n",
    "    model = kmeans.fit(data)\n",
    "\n",
    "    labels = model.predict(data)\n",
    "    \n",
    "    score = np.abs(model.score(data))\n",
    "\n",
    "    return score"
   ]
  },
  {
   "cell_type": "code",
   "execution_count": 45,
   "metadata": {},
   "outputs": [
    {
     "name": "stdout",
     "output_type": "stream",
     "text": [
      "getting score of K =  1\n",
      "getting score of K =  2\n",
      "getting score of K =  3\n",
      "getting score of K =  4\n",
      "getting score of K =  5\n",
      "getting score of K =  6\n",
      "getting score of K =  7\n",
      "getting score of K =  8\n",
      "getting score of K =  9\n",
      "getting score of K =  10\n",
      "getting score of K =  11\n",
      "getting score of K =  12\n",
      "getting score of K =  13\n",
      "getting score of K =  14\n",
      "getting score of K =  15\n"
     ]
    }
   ],
   "source": [
    "centers = []\n",
    "scores = []\n",
    "\n",
    "for center in range(1,16):\n",
    "    centers.append( center )\n",
    "    scores.append( get_kmeans_score(center, azdias_pca) )"
   ]
  },
  {
   "cell_type": "code",
   "execution_count": 46,
   "metadata": {},
   "outputs": [
    {
     "data": {
      "image/png": "[encoded data removed]",
      "text/plain": [
       "<matplotlib.figure.Figure at 0x7f13a406f828>"
      ]
     },
     "metadata": {
      "needs_background": "light"
     },
     "output_type": "display_data"
    }
   ],
   "source": [
    "plt.plot(centers, scores, linestyle='--', marker='o', color='b');\n",
    "plt.xlabel('K');\n",
    "plt.ylabel('SSE');\n",
    "plt.title('SSE vs. K');"
   ]
  },
  {
   "cell_type": "code",
   "execution_count": 47,
   "metadata": {},
   "outputs": [
    {
     "name": "stdout",
     "output_type": "stream",
     "text": [
      "getting score of K =  16\n",
      "getting score of K =  17\n",
      "getting score of K =  18\n",
      "getting score of K =  19\n",
      "getting score of K =  20\n",
      "getting score of K =  21\n",
      "getting score of K =  22\n",
      "getting score of K =  23\n",
      "getting score of K =  24\n",
      "getting score of K =  25\n"
     ]
    }
   ],
   "source": [
    "# Investigate the change in within-cluster distance across number of clusters.\n",
    "# HINT: Use matplotlib's plot function to visualize this relationship.\n",
    "\n",
    "centers_2 = []\n",
    "scores_2 = []\n",
    "\n",
    "for center in range(16,26):\n",
    "    centers_2.append( center )\n",
    "    scores_2.append( get_kmeans_score(center, azdias_pca) )"
   ]
  },
  {
   "cell_type": "code",
   "execution_count": 48,
   "metadata": {},
   "outputs": [
    {
     "data": {
      "image/png": "[encoded data removed]",
      "text/plain": [
       "<matplotlib.figure.Figure at 0x7f139f469208>"
      ]
     },
     "metadata": {
      "needs_background": "light"
     },
     "output_type": "display_data"
    }
   ],
   "source": [
    "plt.plot(centers_2, scores_2, linestyle='--', marker='o', color='b');\n",
    "plt.xlabel('K');\n",
    "plt.ylabel('SSE');\n",
    "plt.title('SSE vs. K');"
   ]
  },
  {
   "cell_type": "code",
   "execution_count": 64,
   "metadata": {},
   "outputs": [],
   "source": [
    "# Re-fit the k-means model with the selected number of clusters and obtain\n",
    "# cluster predictions for the general population demographics data.\n",
    "\n",
    "kmeans_7 = KMeans(n_clusters = 7) \n",
    "\n",
    "model_7 = kmeans_7.fit(azdias_pca)\n",
    "\n",
    "general_pred = model_7.predict(azdias_pca)"
   ]
  },
  {
   "cell_type": "markdown",
   "metadata": {},
   "source": [
    "### Discussion 3.1: Apply Clustering to General Population\n",
    "\n",
    "I tried to apply kmeans for up to 25 centroiods. It look like there as an elbow at 7 center (K). Hence, at this point kmeans generlize so well without worying about underfitting."
   ]
  },
  {
   "cell_type": "markdown",
   "metadata": {},
   "source": [
    "### Step 3.2: Apply All Steps to the Customer Data\n",
    "\n",
    "Now that you have clusters and cluster centers for the general population, it's time to see how the customer data maps on to those clusters. Take care to not confuse this for re-fitting all of the models to the customer data. Instead, you're going to use the fits from the general population to clean, transform, and cluster the customer data. In the last step of the project, you will interpret how the general population fits apply to the customer data.\n",
    "\n",
    "- Don't forget when loading in the customers data, that it is semicolon (`;`) delimited.\n",
    "- Apply the same feature wrangling, selection, and engineering steps to the customer demographics using the `clean_data()` function you created earlier. (You can assume that the customer demographics data has similar meaning behind missing data patterns as the general demographics data.)\n",
    "- Use the sklearn objects from the general demographics data, and apply their transformations to the customers data. That is, you should not be using a `.fit()` or `.fit_transform()` method to re-fit the old objects, nor should you be creating new sklearn objects! Carry the data through the feature scaling, PCA, and clustering steps, obtaining cluster assignments for all of the data in the customer demographics data."
   ]
  },
  {
   "cell_type": "code",
   "execution_count": 65,
   "metadata": {},
   "outputs": [],
   "source": [
    "# Load in the customer demographics data.\n",
    "customers = pd.read_csv('Udacity_CUSTOMERS_Subset.csv',sep=';')"
   ]
  },
  {
   "cell_type": "code",
   "execution_count": 66,
   "metadata": {},
   "outputs": [
    {
     "name": "stderr",
     "output_type": "stream",
     "text": [
      "/opt/conda/lib/python3.6/site-packages/pandas/core/frame.py:3697: SettingWithCopyWarning: \n",
      "A value is trying to be set on a copy of a slice from a DataFrame\n",
      "\n",
      "See the caveats in the documentation: http://pandas.pydata.org/pandas-docs/stable/indexing.html#indexing-view-versus-copy\n",
      "  errors=errors)\n"
     ]
    }
   ],
   "source": [
    "customers_cleaned = clean_data(customers)"
   ]
  },
  {
   "cell_type": "code",
   "execution_count": 67,
   "metadata": {},
   "outputs": [
    {
     "data": {
      "text/plain": [
       "(191652, 196)"
      ]
     },
     "execution_count": 67,
     "metadata": {},
     "output_type": "execute_result"
    }
   ],
   "source": [
    "customers_cleaned.shape"
   ]
  },
  {
   "cell_type": "code",
   "execution_count": 68,
   "metadata": {},
   "outputs": [],
   "source": [
    "customers_imputed = imputer.transform(customers_cleaned)"
   ]
  },
  {
   "cell_type": "code",
   "execution_count": 69,
   "metadata": {},
   "outputs": [],
   "source": [
    "customers_scaled = scaler.transform(customers_imputed)"
   ]
  },
  {
   "cell_type": "code",
   "execution_count": 70,
   "metadata": {},
   "outputs": [],
   "source": [
    "customers_scaled = pd.DataFrame(customers_scaled, columns=list(customers_imputed))\n",
    "# customers_clean_scaled = pd.DataFrame(customers_clean_scaled, columns=list(customers_clean_imputed))"
   ]
  },
  {
   "cell_type": "code",
   "execution_count": 71,
   "metadata": {},
   "outputs": [],
   "source": [
    "customers_pca = pca_33.transform(customers_scaled)"
   ]
  },
  {
   "cell_type": "code",
   "execution_count": 72,
   "metadata": {},
   "outputs": [],
   "source": [
    "# Apply preprocessing, feature transformation, and clustering from the general\n",
    "# demographics onto the customer data, obtaining cluster predictions for the\n",
    "# customer demographics data.\n",
    "\n",
    "customers_pred = model_7.predict(customers_pca)"
   ]
  },
  {
   "cell_type": "markdown",
   "metadata": {},
   "source": [
    "### Step 3.3: Compare Customer Data to Demographics Data\n",
    "\n",
    "At this point, you have clustered data based on demographics of the general population of Germany, and seen how the customer data for a mail-order sales company maps onto those demographic clusters. In this final substep, you will compare the two cluster distributions to see where the strongest customer base for the company is.\n",
    "\n",
    "Consider the proportion of persons in each cluster for the general population, and the proportions for the customers. If we think the company's customer base to be universal, then the cluster assignment proportions should be fairly similar between the two. If there are only particular segments of the population that are interested in the company's products, then we should see a mismatch from one to the other. If there is a higher proportion of persons in a cluster for the customer data compared to the general population (e.g. 5% of persons are assigned to a cluster for the general population, but 15% of the customer data is closest to that cluster's centroid) then that suggests the people in that cluster to be a target audience for the company. On the other hand, the proportion of the data in a cluster being larger in the general population than the customer data (e.g. only 2% of customers closest to a population centroid that captures 6% of the data) suggests that group of persons to be outside of the target demographics.\n",
    "\n",
    "Take a look at the following points in this step:\n",
    "\n",
    "- Compute the proportion of data points in each cluster for the general population and the customer data. Visualizations will be useful here: both for the individual dataset proportions, but also to visualize the ratios in cluster representation between groups. Seaborn's [`countplot()`](https://seaborn.pydata.org/generated/seaborn.countplot.html) or [`barplot()`](https://seaborn.pydata.org/generated/seaborn.barplot.html) function could be handy.\n",
    "  - Recall the analysis you performed in step 1.1.3 of the project, where you separated out certain data points from the dataset if they had more than a specified threshold of missing values. If you found that this group was qualitatively different from the main bulk of the data, you should treat this as an additional data cluster in this analysis. Make sure that you account for the number of data points in this subset, for both the general population and customer datasets, when making your computations!\n",
    "- Which cluster or clusters are overrepresented in the customer dataset compared to the general population? Select at least one such cluster and infer what kind of people might be represented by that cluster. Use the principal component interpretations from step 2.3 or look at additional components to help you make this inference. Alternatively, you can use the `.inverse_transform()` method of the PCA and StandardScaler objects to transform centroids back to the original data space and interpret the retrieved values directly.\n",
    "- Perform a similar investigation for the underrepresented clusters. Which cluster or clusters are underrepresented in the customer dataset compared to the general population, and what kinds of people are typified by these clusters?"
   ]
  },
  {
   "cell_type": "code",
   "execution_count": 73,
   "metadata": {
    "scrolled": true
   },
   "outputs": [
    {
     "data": {
      "image/png": "[encoded data removed]",
      "text/plain": [
       "<matplotlib.figure.Figure at 0x7f13992df4e0>"
      ]
     },
     "metadata": {
      "needs_background": "light"
     },
     "output_type": "display_data"
    }
   ],
   "source": [
    "# Compare the proportion of data in each cluster for the customer data to the\n",
    "# proportion of data in each cluster for the general population.\n",
    "\n",
    "fig, (ax1, ax2) = plt.subplots(1, 2)\n",
    "fig.set_figwidth(14)\n",
    "ax1.set_title('General Population')\n",
    "sns.countplot(general_pred ,ax=ax1)\n",
    "\n",
    "ax2.set_title('Customers Data')\n",
    "sns.countplot(customers_pred ,ax=ax2)\n",
    "plt.show()"
   ]
  },
  {
   "cell_type": "code",
   "execution_count": 75,
   "metadata": {},
   "outputs": [],
   "source": [
    "# What kinds of people are part of a cluster that is overrepresented in the\n",
    "# customer data compared to the general population?\n",
    "\n",
    "centroid_4 = scaler.inverse_transform(pca_33.inverse_transform(model_7.cluster_centers_[4]))"
   ]
  },
  {
   "cell_type": "code",
   "execution_count": 92,
   "metadata": {},
   "outputs": [
    {
     "data": {
      "text/plain": [
       "ALTERSKATEGORIE_GROB               3.163433\n",
       "ANREDE_KZ                          1.487200\n",
       "FINANZ_MINIMALIST                  4.460803\n",
       "FINANZ_SPARER                      1.888990\n",
       "FINANZ_VORSORGER                   3.957684\n",
       "FINANZ_ANLEGER                     2.026933\n",
       "FINANZ_UNAUFFAELLIGER              2.415564\n",
       "FINANZ_HAUSBAUER                   1.961618\n",
       "GREEN_AVANTGARDE                   0.976809\n",
       "HEALTH_TYP                         2.092915\n",
       "LP_LEBENSPHASE_FEIN               25.213614\n",
       "LP_LEBENSPHASE_GROB                7.271203\n",
       "RETOURTYP_BK_S                     3.571601\n",
       "SEMIO_SOZ                          4.188560\n",
       "SEMIO_FAM                          3.649006\n",
       "SEMIO_REL                          3.251007\n",
       "SEMIO_MAT                          3.372843\n",
       "SEMIO_VERT                         4.750814\n",
       "SEMIO_LUST                         4.950056\n",
       "SEMIO_ERL                          4.949683\n",
       "SEMIO_KULT                         3.711274\n",
       "SEMIO_RAT                          3.357691\n",
       "SEMIO_KRIT                         4.319727\n",
       "SEMIO_DOM                          4.653808\n",
       "SEMIO_KAEM                         4.180688\n",
       "SEMIO_PFLICHT                      3.464080\n",
       "SEMIO_TRADV                        3.291329\n",
       "SOHO_KZ                            0.008189\n",
       "VERS_TYP                           1.493623\n",
       "ANZ_PERSONEN                       2.276800\n",
       "                                    ...    \n",
       "CAMEO_DEU_2015_5A                  0.009259\n",
       "CAMEO_DEU_2015_5B                  0.014017\n",
       "CAMEO_DEU_2015_5C                  0.008436\n",
       "CAMEO_DEU_2015_5D                  0.014226\n",
       "CAMEO_DEU_2015_5E                  0.006623\n",
       "CAMEO_DEU_2015_5F                  0.006351\n",
       "CAMEO_DEU_2015_6A                  0.003582\n",
       "CAMEO_DEU_2015_6B                  0.056914\n",
       "CAMEO_DEU_2015_6C                  0.010894\n",
       "CAMEO_DEU_2015_6D                  0.004964\n",
       "CAMEO_DEU_2015_6E                  0.008196\n",
       "CAMEO_DEU_2015_6F                  0.006645\n",
       "CAMEO_DEU_2015_7A                  0.016228\n",
       "CAMEO_DEU_2015_7B                  0.011840\n",
       "CAMEO_DEU_2015_7C                  0.006690\n",
       "CAMEO_DEU_2015_7D                  0.002073\n",
       "CAMEO_DEU_2015_7E                  0.002335\n",
       "CAMEO_DEU_2015_8A                  0.004939\n",
       "CAMEO_DEU_2015_8B                  0.010875\n",
       "CAMEO_DEU_2015_8C                  0.013068\n",
       "CAMEO_DEU_2015_8D                  0.004379\n",
       "CAMEO_DEU_2015_9A                  0.006690\n",
       "CAMEO_DEU_2015_9B                  0.008571\n",
       "CAMEO_DEU_2015_9C                 -0.000803\n",
       "CAMEO_DEU_2015_9D                  0.002566\n",
       "CAMEO_DEU_2015_9E                  0.001099\n",
       "PRAEGENDE_JUGENDJAHRE_DECADE       3.848523\n",
       "PRAEGENDE_JUGENDJAHRE_MOVEMENT     0.023191\n",
       "CAMEO_INTL_2015_WEALTH             2.103051\n",
       "CAMEO_INTL_2015_LIFE_STAGE         3.570017\n",
       "Length: 196, dtype: float64"
      ]
     },
     "execution_count": 92,
     "metadata": {},
     "output_type": "execute_result"
    }
   ],
   "source": [
    "overrepresented_c = pd.Series(data = centroid_4, index = customers_cleaned.columns)\n",
    "overrepresented_c"
   ]
  },
  {
   "cell_type": "code",
   "execution_count": 100,
   "metadata": {},
   "outputs": [
    {
     "data": {
      "text/plain": [
       "4.6538077638768724"
      ]
     },
     "execution_count": 100,
     "metadata": {},
     "output_type": "execute_result"
    }
   ],
   "source": [
    "overrepresented_c['SEMIO_DOM']"
   ]
  },
  {
   "cell_type": "code",
   "execution_count": 94,
   "metadata": {},
   "outputs": [],
   "source": [
    "# What kinds of people are part of a cluster that is underrepresented in the\n",
    "# customer data compared to the general population?\n",
    "\n",
    "centroid_5 = scaler.inverse_transform(pca_33.inverse_transform(model_7.cluster_centers_[5]))"
   ]
  },
  {
   "cell_type": "code",
   "execution_count": 95,
   "metadata": {},
   "outputs": [
    {
     "data": {
      "text/plain": [
       "ALTERSKATEGORIE_GROB              1.815164\n",
       "ANREDE_KZ                         1.579993\n",
       "FINANZ_MINIMALIST                 1.403099\n",
       "FINANZ_SPARER                     4.412689\n",
       "FINANZ_VORSORGER                  2.167555\n",
       "FINANZ_ANLEGER                    4.037257\n",
       "FINANZ_UNAUFFAELLIGER             3.790805\n",
       "FINANZ_HAUSBAUER                  4.026770\n",
       "GREEN_AVANTGARDE                  0.054673\n",
       "HEALTH_TYP                        2.259834\n",
       "LP_LEBENSPHASE_FEIN               9.554468\n",
       "LP_LEBENSPHASE_GROB               3.131265\n",
       "RETOURTYP_BK_S                    2.695457\n",
       "SEMIO_SOZ                         4.556887\n",
       "SEMIO_FAM                         5.030694\n",
       "SEMIO_REL                         5.663747\n",
       "SEMIO_MAT                         4.814038\n",
       "SEMIO_VERT                        3.742406\n",
       "SEMIO_LUST                        3.150117\n",
       "SEMIO_ERL                         3.517424\n",
       "SEMIO_KULT                        5.122819\n",
       "SEMIO_RAT                         5.176705\n",
       "SEMIO_KRIT                        4.412376\n",
       "SEMIO_DOM                         4.759995\n",
       "SEMIO_KAEM                        4.623983\n",
       "SEMIO_PFLICHT                     5.813422\n",
       "SEMIO_TRADV                       5.092926\n",
       "SOHO_KZ                           0.006729\n",
       "VERS_TYP                          1.574257\n",
       "ANZ_PERSONEN                      1.425734\n",
       "                                    ...   \n",
       "CAMEO_DEU_2015_5A                 0.016010\n",
       "CAMEO_DEU_2015_5B                 0.006515\n",
       "CAMEO_DEU_2015_5C                 0.006638\n",
       "CAMEO_DEU_2015_5D                 0.016357\n",
       "CAMEO_DEU_2015_5E                 0.002830\n",
       "CAMEO_DEU_2015_5F                 0.003042\n",
       "CAMEO_DEU_2015_6A                 0.011676\n",
       "CAMEO_DEU_2015_6B                 0.051798\n",
       "CAMEO_DEU_2015_6C                 0.015930\n",
       "CAMEO_DEU_2015_6D                 0.006318\n",
       "CAMEO_DEU_2015_6E                 0.016014\n",
       "CAMEO_DEU_2015_6F                 0.005193\n",
       "CAMEO_DEU_2015_7A                 0.053478\n",
       "CAMEO_DEU_2015_7B                 0.054373\n",
       "CAMEO_DEU_2015_7C                 0.014764\n",
       "CAMEO_DEU_2015_7D                 0.007664\n",
       "CAMEO_DEU_2015_7E                 0.003022\n",
       "CAMEO_DEU_2015_8A                 0.136185\n",
       "CAMEO_DEU_2015_8B                 0.086010\n",
       "CAMEO_DEU_2015_8C                 0.056232\n",
       "CAMEO_DEU_2015_8D                 0.026382\n",
       "CAMEO_DEU_2015_9A                 0.057242\n",
       "CAMEO_DEU_2015_9B                 0.089983\n",
       "CAMEO_DEU_2015_9C                 0.083920\n",
       "CAMEO_DEU_2015_9D                 0.091047\n",
       "CAMEO_DEU_2015_9E                 0.005385\n",
       "PRAEGENDE_JUGENDJAHRE_DECADE      5.585240\n",
       "PRAEGENDE_JUGENDJAHRE_MOVEMENT    0.945327\n",
       "CAMEO_INTL_2015_WEALTH            4.386304\n",
       "CAMEO_INTL_2015_LIFE_STAGE        1.971108\n",
       "Length: 196, dtype: float64"
      ]
     },
     "execution_count": 95,
     "metadata": {},
     "output_type": "execute_result"
    }
   ],
   "source": [
    "underrepresented_c = pd.Series(data = centroid_5, index = customers_cleaned.columns)\n",
    "underrepresented_c"
   ]
  },
  {
   "cell_type": "code",
   "execution_count": 96,
   "metadata": {},
   "outputs": [
    {
     "data": {
      "text/plain": [
       "5.0306940767130834"
      ]
     },
     "execution_count": 96,
     "metadata": {},
     "output_type": "execute_result"
    }
   ],
   "source": [
    "underrepresented_c['SEMIO_FAM']"
   ]
  },
  {
   "cell_type": "markdown",
   "metadata": {},
   "source": [
    "### Discussion 3.3: Compare Customer Data to Demographics Data\n",
    "\n",
    "From the model generated from K-means, we can infer that cluster 4 is overrepresented in the custoemr dataset. Therefore, the characterstics that this group follows:\n",
    "- Prosperous financial state (CAMEO_INTL_2015_WEALTH = 2.103051)\n",
    "- Families With School Age Children, Older Families, and mature couples (CAMEO_INTL_2015_LIFE_STAGE = 3.570017)\n",
    "- age of 45 to 60 years old (ALTERSKATEGORIE_GROB = 3.163433)\n",
    "- Dominent minded (SEMIO_DOM = 4.653808)\n",
    "\n",
    "\n",
    "On the other hand, cluster 5 is underrepresented in the customer dataset. Hence, the characterstics that this group follows:\n",
    "- Less Affluent financial state (CAMEO_INTL_2015_WEALTH = 4.386304)\n",
    "- Young Couples With Children (CAMEO_INTL_2015_LIFE_STAGE = 1.971108)\n",
    "- age of 30 to 45 years old (ALTERSKATEGORIE_GROB = 1.815164)\n",
    "- Family minded (SEMIO_FAM = 5.030694)\n",
    " "
   ]
  },
  {
   "cell_type": "markdown",
   "metadata": {},
   "source": [
    "> Congratulations on making it this far in the project! Before you finish, make sure to check through the entire notebook from top to bottom to make sure that your analysis follows a logical flow and all of your findings are documented in **Discussion** cells. Once you've checked over all of your work, you should export the notebook as an HTML document to submit for evaluation. You can do this from the menu, navigating to **File -> Download as -> HTML (.html)**. You will submit both that document and this notebook for your project submission."
   ]
  },
  {
   "cell_type": "code",
   "execution_count": null,
   "metadata": {},
   "outputs": [],
   "source": []
  }
 ],
 "metadata": {
  "kernelspec": {
   "display_name": "Python 3",
   "language": "python",
   "name": "python3"
  },
  "language_info": {
   "codemirror_mode": {
    "name": "ipython",
    "version": 3
   },
   "file_extension": ".py",
   "mimetype": "text/x-python",
   "name": "python",
   "nbconvert_exporter": "python",
   "pygments_lexer": "ipython3",
   "version": "3.6.3"
  }
 },
 "nbformat": 4,
 "nbformat_minor": 2
}
